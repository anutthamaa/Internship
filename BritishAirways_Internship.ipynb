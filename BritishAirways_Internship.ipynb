{
 "cells": [
  {
   "cell_type": "code",
   "execution_count": 1,
   "id": "8b43d081-1beb-4667-a298-e2107ac4313e",
   "metadata": {},
   "outputs": [],
   "source": [
    "import pandas as pd\n",
    "import requests\n",
    "from bs4 import BeautifulSoup"
   ]
  },
  {
   "cell_type": "raw",
   "id": "cfe4f005-81d5-4a81-be17-d6d5ec74c8b9",
   "metadata": {
    "tags": []
   },
   "source": [
    "webpage = requests.get('https://www.airlinequality.com/airline-reviews/british-airways/page/{}/?sortby=post_date%3ADesc&pagesize=100'.format(15)).text"
   ]
  },
  {
   "cell_type": "raw",
   "id": "e28cd47e-5db4-4c0f-b6b9-cfdba44f46dd",
   "metadata": {
    "collapsed": true,
    "jupyter": {
     "outputs_hidden": true
    },
    "tags": []
   },
   "source": [
    "soup = BeautifulSoup(webpage,'lxml')\n",
    "print(soup.prettify())"
   ]
  },
  {
   "cell_type": "raw",
   "id": "82a076cf-62c3-4f43-ae70-3e479e9895cf",
   "metadata": {},
   "source": [
    "url = 'https://www.airlinequality.com/airline-reviews/british-airways/page/{}/?sortby=post_date%3ADesc&pagesize=100'.format(15)\n",
    "webpage = requests.get(url).text\n",
    "soup = BeautifulSoup(webpage,'lxml')\n",
    "\n",
    "user_detail = []\n",
    "for user in soup.find_all('h3', class_='text_sub_header userStatusWrapper'):\n",
    "    for href in user.find_all('a'):\n",
    "        href.decompose()\n",
    "    user_detail.append(user.text.strip())\n",
    "\n",
    "review_header = []\n",
    "for header in soup.find_all('h2', class_ = 'text_header'):\n",
    "    review_header.append(header.text.strip())\n",
    "\n",
    "review = []\n",
    "for content in soup.find_all('div', class_ = 'text_content'):\n",
    "    string = content.text.strip()\n",
    "    index = string.find(\"|\")\n",
    "    review.append(string[index+1:])\n",
    "\n",
    "trip_verification = []\n",
    "for tripverified in soup.find_all('em'):\n",
    "    trip_verification.append(tripverified.text.strip())\n",
    "\n",
    "rating = []\n",
    "for ratings in soup.find_all('div', class_='rating-10')[1:]:\n",
    "    rating.append(ratings.text.strip())"
   ]
  },
  {
   "cell_type": "raw",
   "id": "142f9a7d-d1fb-42b7-aff9-a25000d4d77e",
   "metadata": {},
   "source": [
    "print(len(user_detail))\n",
    "print(len(review_header))\n",
    "print(len(review))\n",
    "print(len(trip_verification))\n",
    "print(len(rating))"
   ]
  },
  {
   "cell_type": "code",
   "execution_count": 2,
   "id": "766a18c7-b5f3-45d7-902f-591e641de2dd",
   "metadata": {},
   "outputs": [],
   "source": [
    "final_df = pd.DataFrame()"
   ]
  },
  {
   "cell_type": "code",
   "execution_count": 3,
   "id": "3fdb6bda-a1b8-417a-bf55-64e14b0661f5",
   "metadata": {
    "tags": []
   },
   "outputs": [
    {
     "name": "stderr",
     "output_type": "stream",
     "text": [
      "C:\\Users\\Anutthamaa\\AppData\\Local\\Temp\\ipykernel_3664\\2112165885.py:28: FutureWarning: The frame.append method is deprecated and will be removed from pandas in a future version. Use pandas.concat instead.\n",
      "  final_df = final_df.append(df, ignore_index=True)\n"
     ]
    }
   ],
   "source": [
    "for j in range(1,39):\n",
    "    url = 'https://www.airlinequality.com/airline-reviews/british-airways/page/{}/?sortby=post_date%3ADesc&pagesize=100'.format(j)\n",
    "    webpage = requests.get(url).text\n",
    "    soup = BeautifulSoup(webpage,'lxml')\n",
    "\n",
    "    user_detail = []\n",
    "    for user in soup.find_all('h3', class_='text_sub_header userStatusWrapper'):\n",
    "        for href in user.find_all('a'):\n",
    "            href.decompose()\n",
    "        user_detail.append(user.text.strip())\n",
    "\n",
    "    review_header = []\n",
    "    for header in soup.find_all('h2', class_ = 'text_header'):\n",
    "        review_header.append(header.text.strip())\n",
    "\n",
    "    review = []\n",
    "    for content in soup.find_all('div', class_ = 'text_content'):\n",
    "        string = content.text.strip()\n",
    "        index = string.find(\"|\")\n",
    "        review.append(string[index+1:])\n",
    "\n",
    "    rating = []\n",
    "    for ratings in soup.find_all('div', class_='rating-10')[1:]:\n",
    "        rating.append(ratings.text.strip())\n",
    "      \n",
    "    d = {'User_Details':user_detail, 'Rating':rating, 'Review_Header':review_header, 'Review':review}\n",
    "    df = pd.DataFrame(d)\n",
    "    final_df = final_df.append(df, ignore_index=True)"
   ]
  },
  {
   "cell_type": "code",
   "execution_count": 4,
   "id": "0781d58b-e354-4b5e-af8f-0911f26ff9f5",
   "metadata": {},
   "outputs": [
    {
     "data": {
      "text/plain": [
       "(3742, 4)"
      ]
     },
     "execution_count": 4,
     "metadata": {},
     "output_type": "execute_result"
    }
   ],
   "source": [
    "final_df.shape"
   ]
  },
  {
   "cell_type": "raw",
   "id": "40bc26f4-b3f9-4abe-ae70-ae76ca75ff6d",
   "metadata": {
    "collapsed": true,
    "jupyter": {
     "outputs_hidden": true
    },
    "tags": []
   },
   "source": [
    "for i in soup.find_all('td', class_='review-value'):\n",
    "    print(i.text.strip())"
   ]
  },
  {
   "cell_type": "code",
   "execution_count": null,
   "id": "2e2b816e-c435-4c91-b7a3-33d1b5b175c5",
   "metadata": {},
   "outputs": [],
   "source": []
  }
 ],
 "metadata": {
  "kernelspec": {
   "display_name": "Python 3 (ipykernel)",
   "language": "python",
   "name": "python3"
  },
  "language_info": {
   "codemirror_mode": {
    "name": "ipython",
    "version": 3
   },
   "file_extension": ".py",
   "mimetype": "text/x-python",
   "name": "python",
   "nbconvert_exporter": "python",
   "pygments_lexer": "ipython3",
   "version": "3.8.19"
  }
 },
 "nbformat": 4,
 "nbformat_minor": 5
}
