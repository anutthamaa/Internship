{
 "cells": [
  {
   "cell_type": "code",
   "execution_count": 213,
   "id": "2353786c-f7fe-4038-85ab-418ceda64e89",
   "metadata": {},
   "outputs": [],
   "source": [
    "import pandas as pd\n",
    "import numpy as np\n",
    "import seaborn as sns\n",
    "import matplotlib.pyplot as plt\n",
    "%matplotlib inline"
   ]
  },
  {
   "cell_type": "markdown",
   "id": "400c4b1a-e9a4-402b-b1a0-a29d09cff52b",
   "metadata": {},
   "source": [
    "### 1. Import the dataset using Pandas from above mentioned url."
   ]
  },
  {
   "cell_type": "code",
   "execution_count": 3,
   "id": "c5d61424-0723-4f07-9f21-e6e69ee4d4e3",
   "metadata": {},
   "outputs": [
    {
     "data": {
      "text/html": [
       "<div>\n",
       "<style scoped>\n",
       "    .dataframe tbody tr th:only-of-type {\n",
       "        vertical-align: middle;\n",
       "    }\n",
       "\n",
       "    .dataframe tbody tr th {\n",
       "        vertical-align: top;\n",
       "    }\n",
       "\n",
       "    .dataframe thead th {\n",
       "        text-align: right;\n",
       "    }\n",
       "</style>\n",
       "<table border=\"1\" class=\"dataframe\">\n",
       "  <thead>\n",
       "    <tr style=\"text-align: right;\">\n",
       "      <th></th>\n",
       "      <th>iso_code</th>\n",
       "      <th>continent</th>\n",
       "      <th>location</th>\n",
       "      <th>date</th>\n",
       "      <th>total_cases</th>\n",
       "      <th>new_cases</th>\n",
       "      <th>new_cases_smoothed</th>\n",
       "      <th>total_deaths</th>\n",
       "      <th>new_deaths</th>\n",
       "      <th>new_deaths_smoothed</th>\n",
       "      <th>...</th>\n",
       "      <th>gdp_per_capita</th>\n",
       "      <th>extreme_poverty</th>\n",
       "      <th>cardiovasc_death_rate</th>\n",
       "      <th>diabetes_prevalence</th>\n",
       "      <th>female_smokers</th>\n",
       "      <th>male_smokers</th>\n",
       "      <th>handwashing_facilities</th>\n",
       "      <th>hospital_beds_per_thousand</th>\n",
       "      <th>life_expectancy</th>\n",
       "      <th>human_development_index</th>\n",
       "    </tr>\n",
       "  </thead>\n",
       "  <tbody>\n",
       "    <tr>\n",
       "      <th>0</th>\n",
       "      <td>AFG</td>\n",
       "      <td>Asia</td>\n",
       "      <td>Afghanistan</td>\n",
       "      <td>31/12/19</td>\n",
       "      <td>NaN</td>\n",
       "      <td>0.0</td>\n",
       "      <td>NaN</td>\n",
       "      <td>NaN</td>\n",
       "      <td>0.0</td>\n",
       "      <td>NaN</td>\n",
       "      <td>...</td>\n",
       "      <td>1803.987</td>\n",
       "      <td>NaN</td>\n",
       "      <td>597.029</td>\n",
       "      <td>9.59</td>\n",
       "      <td>NaN</td>\n",
       "      <td>NaN</td>\n",
       "      <td>37.746</td>\n",
       "      <td>0.5</td>\n",
       "      <td>64.83</td>\n",
       "      <td>0.498</td>\n",
       "    </tr>\n",
       "    <tr>\n",
       "      <th>1</th>\n",
       "      <td>AFG</td>\n",
       "      <td>Asia</td>\n",
       "      <td>Afghanistan</td>\n",
       "      <td>01/01/20</td>\n",
       "      <td>NaN</td>\n",
       "      <td>0.0</td>\n",
       "      <td>NaN</td>\n",
       "      <td>NaN</td>\n",
       "      <td>0.0</td>\n",
       "      <td>NaN</td>\n",
       "      <td>...</td>\n",
       "      <td>1803.987</td>\n",
       "      <td>NaN</td>\n",
       "      <td>597.029</td>\n",
       "      <td>9.59</td>\n",
       "      <td>NaN</td>\n",
       "      <td>NaN</td>\n",
       "      <td>37.746</td>\n",
       "      <td>0.5</td>\n",
       "      <td>64.83</td>\n",
       "      <td>0.498</td>\n",
       "    </tr>\n",
       "    <tr>\n",
       "      <th>2</th>\n",
       "      <td>AFG</td>\n",
       "      <td>Asia</td>\n",
       "      <td>Afghanistan</td>\n",
       "      <td>02/01/20</td>\n",
       "      <td>NaN</td>\n",
       "      <td>0.0</td>\n",
       "      <td>NaN</td>\n",
       "      <td>NaN</td>\n",
       "      <td>0.0</td>\n",
       "      <td>NaN</td>\n",
       "      <td>...</td>\n",
       "      <td>1803.987</td>\n",
       "      <td>NaN</td>\n",
       "      <td>597.029</td>\n",
       "      <td>9.59</td>\n",
       "      <td>NaN</td>\n",
       "      <td>NaN</td>\n",
       "      <td>37.746</td>\n",
       "      <td>0.5</td>\n",
       "      <td>64.83</td>\n",
       "      <td>0.498</td>\n",
       "    </tr>\n",
       "    <tr>\n",
       "      <th>3</th>\n",
       "      <td>AFG</td>\n",
       "      <td>Asia</td>\n",
       "      <td>Afghanistan</td>\n",
       "      <td>03/01/20</td>\n",
       "      <td>NaN</td>\n",
       "      <td>0.0</td>\n",
       "      <td>NaN</td>\n",
       "      <td>NaN</td>\n",
       "      <td>0.0</td>\n",
       "      <td>NaN</td>\n",
       "      <td>...</td>\n",
       "      <td>1803.987</td>\n",
       "      <td>NaN</td>\n",
       "      <td>597.029</td>\n",
       "      <td>9.59</td>\n",
       "      <td>NaN</td>\n",
       "      <td>NaN</td>\n",
       "      <td>37.746</td>\n",
       "      <td>0.5</td>\n",
       "      <td>64.83</td>\n",
       "      <td>0.498</td>\n",
       "    </tr>\n",
       "    <tr>\n",
       "      <th>4</th>\n",
       "      <td>AFG</td>\n",
       "      <td>Asia</td>\n",
       "      <td>Afghanistan</td>\n",
       "      <td>04/01/20</td>\n",
       "      <td>NaN</td>\n",
       "      <td>0.0</td>\n",
       "      <td>NaN</td>\n",
       "      <td>NaN</td>\n",
       "      <td>0.0</td>\n",
       "      <td>NaN</td>\n",
       "      <td>...</td>\n",
       "      <td>1803.987</td>\n",
       "      <td>NaN</td>\n",
       "      <td>597.029</td>\n",
       "      <td>9.59</td>\n",
       "      <td>NaN</td>\n",
       "      <td>NaN</td>\n",
       "      <td>37.746</td>\n",
       "      <td>0.5</td>\n",
       "      <td>64.83</td>\n",
       "      <td>0.498</td>\n",
       "    </tr>\n",
       "  </tbody>\n",
       "</table>\n",
       "<p>5 rows × 49 columns</p>\n",
       "</div>"
      ],
      "text/plain": [
       "  iso_code continent     location      date  total_cases  new_cases  \\\n",
       "0      AFG      Asia  Afghanistan  31/12/19          NaN        0.0   \n",
       "1      AFG      Asia  Afghanistan  01/01/20          NaN        0.0   \n",
       "2      AFG      Asia  Afghanistan  02/01/20          NaN        0.0   \n",
       "3      AFG      Asia  Afghanistan  03/01/20          NaN        0.0   \n",
       "4      AFG      Asia  Afghanistan  04/01/20          NaN        0.0   \n",
       "\n",
       "   new_cases_smoothed  total_deaths  new_deaths  new_deaths_smoothed  ...  \\\n",
       "0                 NaN           NaN         0.0                  NaN  ...   \n",
       "1                 NaN           NaN         0.0                  NaN  ...   \n",
       "2                 NaN           NaN         0.0                  NaN  ...   \n",
       "3                 NaN           NaN         0.0                  NaN  ...   \n",
       "4                 NaN           NaN         0.0                  NaN  ...   \n",
       "\n",
       "   gdp_per_capita  extreme_poverty  cardiovasc_death_rate  \\\n",
       "0        1803.987              NaN                597.029   \n",
       "1        1803.987              NaN                597.029   \n",
       "2        1803.987              NaN                597.029   \n",
       "3        1803.987              NaN                597.029   \n",
       "4        1803.987              NaN                597.029   \n",
       "\n",
       "   diabetes_prevalence  female_smokers  male_smokers  handwashing_facilities  \\\n",
       "0                 9.59             NaN           NaN                  37.746   \n",
       "1                 9.59             NaN           NaN                  37.746   \n",
       "2                 9.59             NaN           NaN                  37.746   \n",
       "3                 9.59             NaN           NaN                  37.746   \n",
       "4                 9.59             NaN           NaN                  37.746   \n",
       "\n",
       "   hospital_beds_per_thousand  life_expectancy  human_development_index  \n",
       "0                         0.5            64.83                    0.498  \n",
       "1                         0.5            64.83                    0.498  \n",
       "2                         0.5            64.83                    0.498  \n",
       "3                         0.5            64.83                    0.498  \n",
       "4                         0.5            64.83                    0.498  \n",
       "\n",
       "[5 rows x 49 columns]"
      ]
     },
     "execution_count": 3,
     "metadata": {},
     "output_type": "execute_result"
    }
   ],
   "source": [
    "df=pd.read_csv('https://raw.githubusercontent.com/SR1608/Datasets/main/covid-data.csv')\n",
    "df.head()"
   ]
  },
  {
   "cell_type": "markdown",
   "id": "15508661-8024-4b4a-aca3-aa4e5a37812a",
   "metadata": {},
   "source": [
    "### 2. High Level Data Understanding:"
   ]
  },
  {
   "cell_type": "markdown",
   "id": "dbfa82ce-a994-498f-b0dc-58b553377118",
   "metadata": {},
   "source": [
    "#### a. Find no. of rows & columns in the dataset"
   ]
  },
  {
   "cell_type": "code",
   "execution_count": 6,
   "id": "6f9b5418-fa60-417b-ba39-ef3821bd9cd7",
   "metadata": {},
   "outputs": [
    {
     "data": {
      "text/plain": [
       "(57394, 49)"
      ]
     },
     "execution_count": 6,
     "metadata": {},
     "output_type": "execute_result"
    }
   ],
   "source": [
    "df.shape"
   ]
  },
  {
   "cell_type": "markdown",
   "id": "a8fad5e3-c4f6-4eca-b5b8-0fe20c711121",
   "metadata": {},
   "source": [
    "The dataset has 57394 rows and 49 columns"
   ]
  },
  {
   "cell_type": "markdown",
   "id": "983c2051-9cb5-465a-a1e1-7eac33d2878e",
   "metadata": {},
   "source": [
    "#### b. Data types of columns."
   ]
  },
  {
   "cell_type": "code",
   "execution_count": 9,
   "id": "d8808323-9511-4d81-a1d7-104c5d376ef3",
   "metadata": {},
   "outputs": [
    {
     "data": {
      "text/plain": [
       "iso_code                               object\n",
       "continent                              object\n",
       "location                               object\n",
       "date                                   object\n",
       "total_cases                           float64\n",
       "new_cases                             float64\n",
       "new_cases_smoothed                    float64\n",
       "total_deaths                          float64\n",
       "new_deaths                            float64\n",
       "new_deaths_smoothed                   float64\n",
       "total_cases_per_million               float64\n",
       "new_cases_per_million                 float64\n",
       "new_cases_smoothed_per_million        float64\n",
       "total_deaths_per_million              float64\n",
       "new_deaths_per_million                float64\n",
       "new_deaths_smoothed_per_million       float64\n",
       "reproduction_rate                     float64\n",
       "icu_patients                          float64\n",
       "icu_patients_per_million              float64\n",
       "hosp_patients                         float64\n",
       "hosp_patients_per_million             float64\n",
       "weekly_icu_admissions                 float64\n",
       "weekly_icu_admissions_per_million     float64\n",
       "weekly_hosp_admissions                float64\n",
       "weekly_hosp_admissions_per_million    float64\n",
       "total_tests                           float64\n",
       "new_tests                             float64\n",
       "total_tests_per_thousand              float64\n",
       "new_tests_per_thousand                float64\n",
       "new_tests_smoothed                    float64\n",
       "new_tests_smoothed_per_thousand       float64\n",
       "tests_per_case                        float64\n",
       "positive_rate                         float64\n",
       "stringency_index                      float64\n",
       "population                            float64\n",
       "population_density                    float64\n",
       "median_age                            float64\n",
       "aged_65_older                         float64\n",
       "aged_70_older                         float64\n",
       "gdp_per_capita                        float64\n",
       "extreme_poverty                       float64\n",
       "cardiovasc_death_rate                 float64\n",
       "diabetes_prevalence                   float64\n",
       "female_smokers                        float64\n",
       "male_smokers                          float64\n",
       "handwashing_facilities                float64\n",
       "hospital_beds_per_thousand            float64\n",
       "life_expectancy                       float64\n",
       "human_development_index               float64\n",
       "dtype: object"
      ]
     },
     "execution_count": 9,
     "metadata": {},
     "output_type": "execute_result"
    }
   ],
   "source": [
    "df.dtypes"
   ]
  },
  {
   "cell_type": "markdown",
   "id": "2e290fd1-259a-40e7-8673-015d735cfbb8",
   "metadata": {},
   "source": [
    "#### c. Info & describe of data in dataframe."
   ]
  },
  {
   "cell_type": "code",
   "execution_count": 11,
   "id": "6146298a-8164-4872-9563-1e3efae03677",
   "metadata": {},
   "outputs": [
    {
     "name": "stdout",
     "output_type": "stream",
     "text": [
      "<class 'pandas.core.frame.DataFrame'>\n",
      "RangeIndex: 57394 entries, 0 to 57393\n",
      "Data columns (total 49 columns):\n",
      " #   Column                              Non-Null Count  Dtype  \n",
      "---  ------                              --------------  -----  \n",
      " 0   iso_code                            57071 non-null  object \n",
      " 1   continent                           56748 non-null  object \n",
      " 2   location                            57394 non-null  object \n",
      " 3   date                                57394 non-null  object \n",
      " 4   total_cases                         53758 non-null  float64\n",
      " 5   new_cases                           56465 non-null  float64\n",
      " 6   new_cases_smoothed                  55652 non-null  float64\n",
      " 7   total_deaths                        44368 non-null  float64\n",
      " 8   new_deaths                          56465 non-null  float64\n",
      " 9   new_deaths_smoothed                 55652 non-null  float64\n",
      " 10  total_cases_per_million             53471 non-null  float64\n",
      " 11  new_cases_per_million               56401 non-null  float64\n",
      " 12  new_cases_smoothed_per_million      55587 non-null  float64\n",
      " 13  total_deaths_per_million            44096 non-null  float64\n",
      " 14  new_deaths_per_million              56401 non-null  float64\n",
      " 15  new_deaths_smoothed_per_million     55587 non-null  float64\n",
      " 16  reproduction_rate                   37696 non-null  float64\n",
      " 17  icu_patients                        4490 non-null   float64\n",
      " 18  icu_patients_per_million            4490 non-null   float64\n",
      " 19  hosp_patients                       5005 non-null   float64\n",
      " 20  hosp_patients_per_million           5005 non-null   float64\n",
      " 21  weekly_icu_admissions               357 non-null    float64\n",
      " 22  weekly_icu_admissions_per_million   357 non-null    float64\n",
      " 23  weekly_hosp_admissions              645 non-null    float64\n",
      " 24  weekly_hosp_admissions_per_million  645 non-null    float64\n",
      " 25  total_tests                         22017 non-null  float64\n",
      " 26  new_tests                           21787 non-null  float64\n",
      " 27  total_tests_per_thousand            22017 non-null  float64\n",
      " 28  new_tests_per_thousand              21787 non-null  float64\n",
      " 29  new_tests_smoothed                  24612 non-null  float64\n",
      " 30  new_tests_smoothed_per_thousand     24612 non-null  float64\n",
      " 31  tests_per_case                      22802 non-null  float64\n",
      " 32  positive_rate                       23211 non-null  float64\n",
      " 33  stringency_index                    47847 non-null  float64\n",
      " 34  population                          57071 non-null  float64\n",
      " 35  population_density                  54371 non-null  float64\n",
      " 36  median_age                          51034 non-null  float64\n",
      " 37  aged_65_older                       50265 non-null  float64\n",
      " 38  aged_70_older                       50768 non-null  float64\n",
      " 39  gdp_per_capita                      50367 non-null  float64\n",
      " 40  extreme_poverty                     33571 non-null  float64\n",
      " 41  cardiovasc_death_rate               51013 non-null  float64\n",
      " 42  diabetes_prevalence                 52881 non-null  float64\n",
      " 43  female_smokers                      39669 non-null  float64\n",
      " 44  male_smokers                        39156 non-null  float64\n",
      " 45  handwashing_facilities              24176 non-null  float64\n",
      " 46  hospital_beds_per_thousand          45936 non-null  float64\n",
      " 47  life_expectancy                     56336 non-null  float64\n",
      " 48  human_development_index             49247 non-null  float64\n",
      "dtypes: float64(45), object(4)\n",
      "memory usage: 21.5+ MB\n"
     ]
    }
   ],
   "source": [
    "df.info()"
   ]
  },
  {
   "cell_type": "code",
   "execution_count": 12,
   "id": "465b2a69-6a4a-4c1a-9898-7f46dda98fb2",
   "metadata": {},
   "outputs": [
    {
     "data": {
      "text/html": [
       "<div>\n",
       "<style scoped>\n",
       "    .dataframe tbody tr th:only-of-type {\n",
       "        vertical-align: middle;\n",
       "    }\n",
       "\n",
       "    .dataframe tbody tr th {\n",
       "        vertical-align: top;\n",
       "    }\n",
       "\n",
       "    .dataframe thead th {\n",
       "        text-align: right;\n",
       "    }\n",
       "</style>\n",
       "<table border=\"1\" class=\"dataframe\">\n",
       "  <thead>\n",
       "    <tr style=\"text-align: right;\">\n",
       "      <th></th>\n",
       "      <th>count</th>\n",
       "      <th>mean</th>\n",
       "      <th>std</th>\n",
       "      <th>min</th>\n",
       "      <th>25%</th>\n",
       "      <th>50%</th>\n",
       "      <th>75%</th>\n",
       "      <th>max</th>\n",
       "    </tr>\n",
       "  </thead>\n",
       "  <tbody>\n",
       "    <tr>\n",
       "      <th>total_cases</th>\n",
       "      <td>53758.0</td>\n",
       "      <td>1.677974e+05</td>\n",
       "      <td>1.693038e+06</td>\n",
       "      <td>1.000</td>\n",
       "      <td>1.800000e+02</td>\n",
       "      <td>2.070000e+03</td>\n",
       "      <td>2.235675e+04</td>\n",
       "      <td>5.515465e+07</td>\n",
       "    </tr>\n",
       "    <tr>\n",
       "      <th>new_cases</th>\n",
       "      <td>56465.0</td>\n",
       "      <td>1.953577e+03</td>\n",
       "      <td>1.826965e+04</td>\n",
       "      <td>-8261.000</td>\n",
       "      <td>0.000000e+00</td>\n",
       "      <td>1.400000e+01</td>\n",
       "      <td>2.350000e+02</td>\n",
       "      <td>6.462810e+05</td>\n",
       "    </tr>\n",
       "    <tr>\n",
       "      <th>new_cases_smoothed</th>\n",
       "      <td>55652.0</td>\n",
       "      <td>1.920432e+03</td>\n",
       "      <td>1.777739e+04</td>\n",
       "      <td>-552.000</td>\n",
       "      <td>8.570000e-01</td>\n",
       "      <td>1.942900e+01</td>\n",
       "      <td>2.452860e+02</td>\n",
       "      <td>5.849819e+05</td>\n",
       "    </tr>\n",
       "    <tr>\n",
       "      <th>total_deaths</th>\n",
       "      <td>44368.0</td>\n",
       "      <td>6.858639e+03</td>\n",
       "      <td>5.578081e+04</td>\n",
       "      <td>1.000</td>\n",
       "      <td>1.300000e+01</td>\n",
       "      <td>8.400000e+01</td>\n",
       "      <td>7.270000e+02</td>\n",
       "      <td>1.328537e+06</td>\n",
       "    </tr>\n",
       "    <tr>\n",
       "      <th>new_deaths</th>\n",
       "      <td>56465.0</td>\n",
       "      <td>4.705432e+01</td>\n",
       "      <td>3.908538e+02</td>\n",
       "      <td>-1918.000</td>\n",
       "      <td>0.000000e+00</td>\n",
       "      <td>0.000000e+00</td>\n",
       "      <td>4.000000e+00</td>\n",
       "      <td>1.060000e+04</td>\n",
       "    </tr>\n",
       "    <tr>\n",
       "      <th>new_deaths_smoothed</th>\n",
       "      <td>55652.0</td>\n",
       "      <td>4.683544e+01</td>\n",
       "      <td>3.782728e+02</td>\n",
       "      <td>-232.143</td>\n",
       "      <td>0.000000e+00</td>\n",
       "      <td>2.860000e-01</td>\n",
       "      <td>4.000000e+00</td>\n",
       "      <td>9.027714e+03</td>\n",
       "    </tr>\n",
       "    <tr>\n",
       "      <th>total_cases_per_million</th>\n",
       "      <td>53471.0</td>\n",
       "      <td>3.139100e+03</td>\n",
       "      <td>6.183455e+03</td>\n",
       "      <td>0.001</td>\n",
       "      <td>9.003300e+01</td>\n",
       "      <td>5.936630e+02</td>\n",
       "      <td>3.487050e+03</td>\n",
       "      <td>7.654177e+04</td>\n",
       "    </tr>\n",
       "    <tr>\n",
       "      <th>new_cases_per_million</th>\n",
       "      <td>56401.0</td>\n",
       "      <td>3.934480e+01</td>\n",
       "      <td>1.339852e+02</td>\n",
       "      <td>-2212.545</td>\n",
       "      <td>0.000000e+00</td>\n",
       "      <td>2.194000e+00</td>\n",
       "      <td>2.594100e+01</td>\n",
       "      <td>8.652658e+03</td>\n",
       "    </tr>\n",
       "    <tr>\n",
       "      <th>new_cases_smoothed_per_million</th>\n",
       "      <td>55587.0</td>\n",
       "      <td>3.840321e+01</td>\n",
       "      <td>1.016494e+02</td>\n",
       "      <td>-269.978</td>\n",
       "      <td>2.600000e-01</td>\n",
       "      <td>3.863000e+00</td>\n",
       "      <td>2.967850e+01</td>\n",
       "      <td>2.472188e+03</td>\n",
       "    </tr>\n",
       "    <tr>\n",
       "      <th>total_deaths_per_million</th>\n",
       "      <td>44096.0</td>\n",
       "      <td>9.533529e+01</td>\n",
       "      <td>1.807217e+02</td>\n",
       "      <td>0.000</td>\n",
       "      <td>3.977750e+00</td>\n",
       "      <td>2.038300e+01</td>\n",
       "      <td>9.057125e+01</td>\n",
       "      <td>1.248014e+03</td>\n",
       "    </tr>\n",
       "    <tr>\n",
       "      <th>new_deaths_per_million</th>\n",
       "      <td>56401.0</td>\n",
       "      <td>6.795694e-01</td>\n",
       "      <td>3.026430e+00</td>\n",
       "      <td>-67.901</td>\n",
       "      <td>0.000000e+00</td>\n",
       "      <td>0.000000e+00</td>\n",
       "      <td>2.940000e-01</td>\n",
       "      <td>2.153820e+02</td>\n",
       "    </tr>\n",
       "    <tr>\n",
       "      <th>new_deaths_smoothed_per_million</th>\n",
       "      <td>55587.0</td>\n",
       "      <td>6.670596e-01</td>\n",
       "      <td>1.968914e+00</td>\n",
       "      <td>-9.678</td>\n",
       "      <td>0.000000e+00</td>\n",
       "      <td>2.800000e-02</td>\n",
       "      <td>4.200000e-01</td>\n",
       "      <td>6.314000e+01</td>\n",
       "    </tr>\n",
       "    <tr>\n",
       "      <th>reproduction_rate</th>\n",
       "      <td>37696.0</td>\n",
       "      <td>1.044593e+00</td>\n",
       "      <td>3.959323e-01</td>\n",
       "      <td>0.000</td>\n",
       "      <td>8.700000e-01</td>\n",
       "      <td>1.040000e+00</td>\n",
       "      <td>1.220000e+00</td>\n",
       "      <td>6.720000e+00</td>\n",
       "    </tr>\n",
       "    <tr>\n",
       "      <th>icu_patients</th>\n",
       "      <td>4490.0</td>\n",
       "      <td>7.261920e+02</td>\n",
       "      <td>2.031111e+03</td>\n",
       "      <td>0.000</td>\n",
       "      <td>9.000000e+00</td>\n",
       "      <td>4.800000e+01</td>\n",
       "      <td>2.930000e+02</td>\n",
       "      <td>1.513000e+04</td>\n",
       "    </tr>\n",
       "    <tr>\n",
       "      <th>icu_patients_per_million</th>\n",
       "      <td>4490.0</td>\n",
       "      <td>1.326426e+01</td>\n",
       "      <td>1.878872e+01</td>\n",
       "      <td>0.000</td>\n",
       "      <td>1.683750e+00</td>\n",
       "      <td>5.901000e+00</td>\n",
       "      <td>1.746200e+01</td>\n",
       "      <td>1.268380e+02</td>\n",
       "    </tr>\n",
       "    <tr>\n",
       "      <th>hosp_patients</th>\n",
       "      <td>5005.0</td>\n",
       "      <td>3.867245e+03</td>\n",
       "      <td>9.952990e+03</td>\n",
       "      <td>0.000</td>\n",
       "      <td>3.800000e+01</td>\n",
       "      <td>2.130000e+02</td>\n",
       "      <td>1.617000e+03</td>\n",
       "      <td>6.536800e+04</td>\n",
       "    </tr>\n",
       "    <tr>\n",
       "      <th>hosp_patients_per_million</th>\n",
       "      <td>5005.0</td>\n",
       "      <td>7.656264e+01</td>\n",
       "      <td>1.090790e+02</td>\n",
       "      <td>0.000</td>\n",
       "      <td>1.055400e+01</td>\n",
       "      <td>3.554800e+01</td>\n",
       "      <td>9.338600e+01</td>\n",
       "      <td>7.734630e+02</td>\n",
       "    </tr>\n",
       "    <tr>\n",
       "      <th>weekly_icu_admissions</th>\n",
       "      <td>357.0</td>\n",
       "      <td>2.492624e+02</td>\n",
       "      <td>5.450054e+02</td>\n",
       "      <td>0.000</td>\n",
       "      <td>4.027000e+00</td>\n",
       "      <td>2.577800e+01</td>\n",
       "      <td>2.330910e+02</td>\n",
       "      <td>4.375407e+03</td>\n",
       "    </tr>\n",
       "    <tr>\n",
       "      <th>weekly_icu_admissions_per_million</th>\n",
       "      <td>357.0</td>\n",
       "      <td>7.284022e+00</td>\n",
       "      <td>1.818265e+01</td>\n",
       "      <td>0.000</td>\n",
       "      <td>8.160000e-01</td>\n",
       "      <td>2.083000e+00</td>\n",
       "      <td>6.076000e+00</td>\n",
       "      <td>1.922100e+02</td>\n",
       "    </tr>\n",
       "    <tr>\n",
       "      <th>weekly_hosp_admissions</th>\n",
       "      <td>645.0</td>\n",
       "      <td>2.230688e+03</td>\n",
       "      <td>5.305475e+03</td>\n",
       "      <td>0.000</td>\n",
       "      <td>2.013700e+01</td>\n",
       "      <td>1.468110e+02</td>\n",
       "      <td>1.077102e+03</td>\n",
       "      <td>4.664141e+04</td>\n",
       "    </tr>\n",
       "    <tr>\n",
       "      <th>weekly_hosp_admissions_per_million</th>\n",
       "      <td>645.0</td>\n",
       "      <td>6.065507e+01</td>\n",
       "      <td>1.748486e+02</td>\n",
       "      <td>0.000</td>\n",
       "      <td>4.167000e+00</td>\n",
       "      <td>1.499700e+01</td>\n",
       "      <td>4.503300e+01</td>\n",
       "      <td>2.424482e+03</td>\n",
       "    </tr>\n",
       "    <tr>\n",
       "      <th>total_tests</th>\n",
       "      <td>22017.0</td>\n",
       "      <td>2.309838e+06</td>\n",
       "      <td>1.053218e+07</td>\n",
       "      <td>1.000</td>\n",
       "      <td>6.082500e+04</td>\n",
       "      <td>2.656400e+05</td>\n",
       "      <td>1.078539e+06</td>\n",
       "      <td>1.660391e+08</td>\n",
       "    </tr>\n",
       "    <tr>\n",
       "      <th>new_tests</th>\n",
       "      <td>21787.0</td>\n",
       "      <td>2.847832e+04</td>\n",
       "      <td>1.149094e+05</td>\n",
       "      <td>-3743.000</td>\n",
       "      <td>1.039000e+03</td>\n",
       "      <td>3.715000e+03</td>\n",
       "      <td>1.410700e+04</td>\n",
       "      <td>1.531394e+06</td>\n",
       "    </tr>\n",
       "    <tr>\n",
       "      <th>total_tests_per_thousand</th>\n",
       "      <td>22017.0</td>\n",
       "      <td>7.891768e+01</td>\n",
       "      <td>1.577272e+02</td>\n",
       "      <td>0.000</td>\n",
       "      <td>4.047000e+00</td>\n",
       "      <td>2.096500e+01</td>\n",
       "      <td>8.592200e+01</td>\n",
       "      <td>1.926641e+03</td>\n",
       "    </tr>\n",
       "    <tr>\n",
       "      <th>new_tests_per_thousand</th>\n",
       "      <td>21787.0</td>\n",
       "      <td>9.160913e-01</td>\n",
       "      <td>1.696732e+00</td>\n",
       "      <td>-0.398</td>\n",
       "      <td>7.300000e-02</td>\n",
       "      <td>3.440000e-01</td>\n",
       "      <td>1.074000e+00</td>\n",
       "      <td>2.607100e+01</td>\n",
       "    </tr>\n",
       "    <tr>\n",
       "      <th>new_tests_smoothed</th>\n",
       "      <td>24612.0</td>\n",
       "      <td>2.738971e+04</td>\n",
       "      <td>1.059809e+05</td>\n",
       "      <td>0.000</td>\n",
       "      <td>1.108750e+03</td>\n",
       "      <td>4.024000e+03</td>\n",
       "      <td>1.513425e+04</td>\n",
       "      <td>1.296553e+06</td>\n",
       "    </tr>\n",
       "    <tr>\n",
       "      <th>new_tests_smoothed_per_thousand</th>\n",
       "      <td>24612.0</td>\n",
       "      <td>8.978750e-01</td>\n",
       "      <td>1.569310e+00</td>\n",
       "      <td>0.000</td>\n",
       "      <td>7.400000e-02</td>\n",
       "      <td>3.505000e-01</td>\n",
       "      <td>1.075000e+00</td>\n",
       "      <td>1.917200e+01</td>\n",
       "    </tr>\n",
       "    <tr>\n",
       "      <th>tests_per_case</th>\n",
       "      <td>22802.0</td>\n",
       "      <td>1.829179e+02</td>\n",
       "      <td>8.778527e+02</td>\n",
       "      <td>1.535</td>\n",
       "      <td>1.060750e+01</td>\n",
       "      <td>2.936900e+01</td>\n",
       "      <td>9.479325e+01</td>\n",
       "      <td>4.586400e+04</td>\n",
       "    </tr>\n",
       "    <tr>\n",
       "      <th>positive_rate</th>\n",
       "      <td>23211.0</td>\n",
       "      <td>6.796799e-02</td>\n",
       "      <td>8.883350e-02</td>\n",
       "      <td>0.000</td>\n",
       "      <td>1.000000e-02</td>\n",
       "      <td>3.300000e-02</td>\n",
       "      <td>9.300000e-02</td>\n",
       "      <td>6.510000e-01</td>\n",
       "    </tr>\n",
       "    <tr>\n",
       "      <th>stringency_index</th>\n",
       "      <td>47847.0</td>\n",
       "      <td>5.698113e+01</td>\n",
       "      <td>2.584558e+01</td>\n",
       "      <td>0.000</td>\n",
       "      <td>3.981000e+01</td>\n",
       "      <td>6.065000e+01</td>\n",
       "      <td>7.778000e+01</td>\n",
       "      <td>1.000000e+02</td>\n",
       "    </tr>\n",
       "    <tr>\n",
       "      <th>population</th>\n",
       "      <td>57071.0</td>\n",
       "      <td>8.559938e+07</td>\n",
       "      <td>6.017270e+08</td>\n",
       "      <td>809.000</td>\n",
       "      <td>1.326539e+06</td>\n",
       "      <td>8.278737e+06</td>\n",
       "      <td>2.982597e+07</td>\n",
       "      <td>7.794799e+09</td>\n",
       "    </tr>\n",
       "    <tr>\n",
       "      <th>population_density</th>\n",
       "      <td>54371.0</td>\n",
       "      <td>3.604907e+02</td>\n",
       "      <td>1.639740e+03</td>\n",
       "      <td>0.137</td>\n",
       "      <td>3.772800e+01</td>\n",
       "      <td>8.812500e+01</td>\n",
       "      <td>2.142430e+02</td>\n",
       "      <td>1.934750e+04</td>\n",
       "    </tr>\n",
       "    <tr>\n",
       "      <th>median_age</th>\n",
       "      <td>51034.0</td>\n",
       "      <td>3.118958e+01</td>\n",
       "      <td>9.044262e+00</td>\n",
       "      <td>15.100</td>\n",
       "      <td>2.320000e+01</td>\n",
       "      <td>3.110000e+01</td>\n",
       "      <td>3.970000e+01</td>\n",
       "      <td>4.820000e+01</td>\n",
       "    </tr>\n",
       "    <tr>\n",
       "      <th>aged_65_older</th>\n",
       "      <td>50265.0</td>\n",
       "      <td>9.179238e+00</td>\n",
       "      <td>6.297170e+00</td>\n",
       "      <td>1.144</td>\n",
       "      <td>3.552000e+00</td>\n",
       "      <td>6.933000e+00</td>\n",
       "      <td>1.473800e+01</td>\n",
       "      <td>2.704900e+01</td>\n",
       "    </tr>\n",
       "    <tr>\n",
       "      <th>aged_70_older</th>\n",
       "      <td>50768.0</td>\n",
       "      <td>5.800115e+00</td>\n",
       "      <td>4.295740e+00</td>\n",
       "      <td>0.526</td>\n",
       "      <td>2.085000e+00</td>\n",
       "      <td>4.393000e+00</td>\n",
       "      <td>9.395000e+00</td>\n",
       "      <td>1.849300e+01</td>\n",
       "    </tr>\n",
       "    <tr>\n",
       "      <th>gdp_per_capita</th>\n",
       "      <td>50367.0</td>\n",
       "      <td>2.062017e+04</td>\n",
       "      <td>2.031100e+04</td>\n",
       "      <td>661.240</td>\n",
       "      <td>5.321444e+03</td>\n",
       "      <td>1.391384e+04</td>\n",
       "      <td>3.140084e+04</td>\n",
       "      <td>1.169356e+05</td>\n",
       "    </tr>\n",
       "    <tr>\n",
       "      <th>extreme_poverty</th>\n",
       "      <td>33571.0</td>\n",
       "      <td>1.243545e+01</td>\n",
       "      <td>1.942792e+01</td>\n",
       "      <td>0.100</td>\n",
       "      <td>5.000000e-01</td>\n",
       "      <td>2.000000e+00</td>\n",
       "      <td>1.810000e+01</td>\n",
       "      <td>7.760000e+01</td>\n",
       "    </tr>\n",
       "    <tr>\n",
       "      <th>cardiovasc_death_rate</th>\n",
       "      <td>51013.0</td>\n",
       "      <td>2.526466e+02</td>\n",
       "      <td>1.175223e+02</td>\n",
       "      <td>79.370</td>\n",
       "      <td>1.561390e+02</td>\n",
       "      <td>2.383390e+02</td>\n",
       "      <td>3.189910e+02</td>\n",
       "      <td>7.244170e+02</td>\n",
       "    </tr>\n",
       "    <tr>\n",
       "      <th>diabetes_prevalence</th>\n",
       "      <td>52881.0</td>\n",
       "      <td>8.070269e+00</td>\n",
       "      <td>4.189605e+00</td>\n",
       "      <td>0.990</td>\n",
       "      <td>5.310000e+00</td>\n",
       "      <td>7.110000e+00</td>\n",
       "      <td>1.039000e+01</td>\n",
       "      <td>3.053000e+01</td>\n",
       "    </tr>\n",
       "    <tr>\n",
       "      <th>female_smokers</th>\n",
       "      <td>39669.0</td>\n",
       "      <td>1.074157e+01</td>\n",
       "      <td>1.047074e+01</td>\n",
       "      <td>0.100</td>\n",
       "      <td>1.900000e+00</td>\n",
       "      <td>6.400000e+00</td>\n",
       "      <td>1.960000e+01</td>\n",
       "      <td>4.400000e+01</td>\n",
       "    </tr>\n",
       "    <tr>\n",
       "      <th>male_smokers</th>\n",
       "      <td>39156.0</td>\n",
       "      <td>3.264269e+01</td>\n",
       "      <td>1.345357e+01</td>\n",
       "      <td>7.700</td>\n",
       "      <td>2.140000e+01</td>\n",
       "      <td>3.140000e+01</td>\n",
       "      <td>4.090000e+01</td>\n",
       "      <td>7.810000e+01</td>\n",
       "    </tr>\n",
       "    <tr>\n",
       "      <th>handwashing_facilities</th>\n",
       "      <td>24176.0</td>\n",
       "      <td>5.208964e+01</td>\n",
       "      <td>3.164531e+01</td>\n",
       "      <td>1.188</td>\n",
       "      <td>2.122200e+01</td>\n",
       "      <td>5.223200e+01</td>\n",
       "      <td>8.374100e+01</td>\n",
       "      <td>9.899900e+01</td>\n",
       "    </tr>\n",
       "    <tr>\n",
       "      <th>hospital_beds_per_thousand</th>\n",
       "      <td>45936.0</td>\n",
       "      <td>3.089724e+00</td>\n",
       "      <td>2.513193e+00</td>\n",
       "      <td>0.100</td>\n",
       "      <td>1.300000e+00</td>\n",
       "      <td>2.500000e+00</td>\n",
       "      <td>4.200000e+00</td>\n",
       "      <td>1.380000e+01</td>\n",
       "    </tr>\n",
       "    <tr>\n",
       "      <th>life_expectancy</th>\n",
       "      <td>56336.0</td>\n",
       "      <td>7.393778e+01</td>\n",
       "      <td>7.397016e+00</td>\n",
       "      <td>53.280</td>\n",
       "      <td>6.987000e+01</td>\n",
       "      <td>7.534500e+01</td>\n",
       "      <td>7.938000e+01</td>\n",
       "      <td>8.675000e+01</td>\n",
       "    </tr>\n",
       "    <tr>\n",
       "      <th>human_development_index</th>\n",
       "      <td>49247.0</td>\n",
       "      <td>7.222228e-01</td>\n",
       "      <td>1.532613e-01</td>\n",
       "      <td>0.354</td>\n",
       "      <td>6.010000e-01</td>\n",
       "      <td>7.520000e-01</td>\n",
       "      <td>8.470000e-01</td>\n",
       "      <td>9.530000e-01</td>\n",
       "    </tr>\n",
       "  </tbody>\n",
       "</table>\n",
       "</div>"
      ],
      "text/plain": [
       "                                      count          mean           std  \\\n",
       "total_cases                         53758.0  1.677974e+05  1.693038e+06   \n",
       "new_cases                           56465.0  1.953577e+03  1.826965e+04   \n",
       "new_cases_smoothed                  55652.0  1.920432e+03  1.777739e+04   \n",
       "total_deaths                        44368.0  6.858639e+03  5.578081e+04   \n",
       "new_deaths                          56465.0  4.705432e+01  3.908538e+02   \n",
       "new_deaths_smoothed                 55652.0  4.683544e+01  3.782728e+02   \n",
       "total_cases_per_million             53471.0  3.139100e+03  6.183455e+03   \n",
       "new_cases_per_million               56401.0  3.934480e+01  1.339852e+02   \n",
       "new_cases_smoothed_per_million      55587.0  3.840321e+01  1.016494e+02   \n",
       "total_deaths_per_million            44096.0  9.533529e+01  1.807217e+02   \n",
       "new_deaths_per_million              56401.0  6.795694e-01  3.026430e+00   \n",
       "new_deaths_smoothed_per_million     55587.0  6.670596e-01  1.968914e+00   \n",
       "reproduction_rate                   37696.0  1.044593e+00  3.959323e-01   \n",
       "icu_patients                         4490.0  7.261920e+02  2.031111e+03   \n",
       "icu_patients_per_million             4490.0  1.326426e+01  1.878872e+01   \n",
       "hosp_patients                        5005.0  3.867245e+03  9.952990e+03   \n",
       "hosp_patients_per_million            5005.0  7.656264e+01  1.090790e+02   \n",
       "weekly_icu_admissions                 357.0  2.492624e+02  5.450054e+02   \n",
       "weekly_icu_admissions_per_million     357.0  7.284022e+00  1.818265e+01   \n",
       "weekly_hosp_admissions                645.0  2.230688e+03  5.305475e+03   \n",
       "weekly_hosp_admissions_per_million    645.0  6.065507e+01  1.748486e+02   \n",
       "total_tests                         22017.0  2.309838e+06  1.053218e+07   \n",
       "new_tests                           21787.0  2.847832e+04  1.149094e+05   \n",
       "total_tests_per_thousand            22017.0  7.891768e+01  1.577272e+02   \n",
       "new_tests_per_thousand              21787.0  9.160913e-01  1.696732e+00   \n",
       "new_tests_smoothed                  24612.0  2.738971e+04  1.059809e+05   \n",
       "new_tests_smoothed_per_thousand     24612.0  8.978750e-01  1.569310e+00   \n",
       "tests_per_case                      22802.0  1.829179e+02  8.778527e+02   \n",
       "positive_rate                       23211.0  6.796799e-02  8.883350e-02   \n",
       "stringency_index                    47847.0  5.698113e+01  2.584558e+01   \n",
       "population                          57071.0  8.559938e+07  6.017270e+08   \n",
       "population_density                  54371.0  3.604907e+02  1.639740e+03   \n",
       "median_age                          51034.0  3.118958e+01  9.044262e+00   \n",
       "aged_65_older                       50265.0  9.179238e+00  6.297170e+00   \n",
       "aged_70_older                       50768.0  5.800115e+00  4.295740e+00   \n",
       "gdp_per_capita                      50367.0  2.062017e+04  2.031100e+04   \n",
       "extreme_poverty                     33571.0  1.243545e+01  1.942792e+01   \n",
       "cardiovasc_death_rate               51013.0  2.526466e+02  1.175223e+02   \n",
       "diabetes_prevalence                 52881.0  8.070269e+00  4.189605e+00   \n",
       "female_smokers                      39669.0  1.074157e+01  1.047074e+01   \n",
       "male_smokers                        39156.0  3.264269e+01  1.345357e+01   \n",
       "handwashing_facilities              24176.0  5.208964e+01  3.164531e+01   \n",
       "hospital_beds_per_thousand          45936.0  3.089724e+00  2.513193e+00   \n",
       "life_expectancy                     56336.0  7.393778e+01  7.397016e+00   \n",
       "human_development_index             49247.0  7.222228e-01  1.532613e-01   \n",
       "\n",
       "                                         min           25%           50%  \\\n",
       "total_cases                            1.000  1.800000e+02  2.070000e+03   \n",
       "new_cases                          -8261.000  0.000000e+00  1.400000e+01   \n",
       "new_cases_smoothed                  -552.000  8.570000e-01  1.942900e+01   \n",
       "total_deaths                           1.000  1.300000e+01  8.400000e+01   \n",
       "new_deaths                         -1918.000  0.000000e+00  0.000000e+00   \n",
       "new_deaths_smoothed                 -232.143  0.000000e+00  2.860000e-01   \n",
       "total_cases_per_million                0.001  9.003300e+01  5.936630e+02   \n",
       "new_cases_per_million              -2212.545  0.000000e+00  2.194000e+00   \n",
       "new_cases_smoothed_per_million      -269.978  2.600000e-01  3.863000e+00   \n",
       "total_deaths_per_million               0.000  3.977750e+00  2.038300e+01   \n",
       "new_deaths_per_million               -67.901  0.000000e+00  0.000000e+00   \n",
       "new_deaths_smoothed_per_million       -9.678  0.000000e+00  2.800000e-02   \n",
       "reproduction_rate                      0.000  8.700000e-01  1.040000e+00   \n",
       "icu_patients                           0.000  9.000000e+00  4.800000e+01   \n",
       "icu_patients_per_million               0.000  1.683750e+00  5.901000e+00   \n",
       "hosp_patients                          0.000  3.800000e+01  2.130000e+02   \n",
       "hosp_patients_per_million              0.000  1.055400e+01  3.554800e+01   \n",
       "weekly_icu_admissions                  0.000  4.027000e+00  2.577800e+01   \n",
       "weekly_icu_admissions_per_million      0.000  8.160000e-01  2.083000e+00   \n",
       "weekly_hosp_admissions                 0.000  2.013700e+01  1.468110e+02   \n",
       "weekly_hosp_admissions_per_million     0.000  4.167000e+00  1.499700e+01   \n",
       "total_tests                            1.000  6.082500e+04  2.656400e+05   \n",
       "new_tests                          -3743.000  1.039000e+03  3.715000e+03   \n",
       "total_tests_per_thousand               0.000  4.047000e+00  2.096500e+01   \n",
       "new_tests_per_thousand                -0.398  7.300000e-02  3.440000e-01   \n",
       "new_tests_smoothed                     0.000  1.108750e+03  4.024000e+03   \n",
       "new_tests_smoothed_per_thousand        0.000  7.400000e-02  3.505000e-01   \n",
       "tests_per_case                         1.535  1.060750e+01  2.936900e+01   \n",
       "positive_rate                          0.000  1.000000e-02  3.300000e-02   \n",
       "stringency_index                       0.000  3.981000e+01  6.065000e+01   \n",
       "population                           809.000  1.326539e+06  8.278737e+06   \n",
       "population_density                     0.137  3.772800e+01  8.812500e+01   \n",
       "median_age                            15.100  2.320000e+01  3.110000e+01   \n",
       "aged_65_older                          1.144  3.552000e+00  6.933000e+00   \n",
       "aged_70_older                          0.526  2.085000e+00  4.393000e+00   \n",
       "gdp_per_capita                       661.240  5.321444e+03  1.391384e+04   \n",
       "extreme_poverty                        0.100  5.000000e-01  2.000000e+00   \n",
       "cardiovasc_death_rate                 79.370  1.561390e+02  2.383390e+02   \n",
       "diabetes_prevalence                    0.990  5.310000e+00  7.110000e+00   \n",
       "female_smokers                         0.100  1.900000e+00  6.400000e+00   \n",
       "male_smokers                           7.700  2.140000e+01  3.140000e+01   \n",
       "handwashing_facilities                 1.188  2.122200e+01  5.223200e+01   \n",
       "hospital_beds_per_thousand             0.100  1.300000e+00  2.500000e+00   \n",
       "life_expectancy                       53.280  6.987000e+01  7.534500e+01   \n",
       "human_development_index                0.354  6.010000e-01  7.520000e-01   \n",
       "\n",
       "                                             75%           max  \n",
       "total_cases                         2.235675e+04  5.515465e+07  \n",
       "new_cases                           2.350000e+02  6.462810e+05  \n",
       "new_cases_smoothed                  2.452860e+02  5.849819e+05  \n",
       "total_deaths                        7.270000e+02  1.328537e+06  \n",
       "new_deaths                          4.000000e+00  1.060000e+04  \n",
       "new_deaths_smoothed                 4.000000e+00  9.027714e+03  \n",
       "total_cases_per_million             3.487050e+03  7.654177e+04  \n",
       "new_cases_per_million               2.594100e+01  8.652658e+03  \n",
       "new_cases_smoothed_per_million      2.967850e+01  2.472188e+03  \n",
       "total_deaths_per_million            9.057125e+01  1.248014e+03  \n",
       "new_deaths_per_million              2.940000e-01  2.153820e+02  \n",
       "new_deaths_smoothed_per_million     4.200000e-01  6.314000e+01  \n",
       "reproduction_rate                   1.220000e+00  6.720000e+00  \n",
       "icu_patients                        2.930000e+02  1.513000e+04  \n",
       "icu_patients_per_million            1.746200e+01  1.268380e+02  \n",
       "hosp_patients                       1.617000e+03  6.536800e+04  \n",
       "hosp_patients_per_million           9.338600e+01  7.734630e+02  \n",
       "weekly_icu_admissions               2.330910e+02  4.375407e+03  \n",
       "weekly_icu_admissions_per_million   6.076000e+00  1.922100e+02  \n",
       "weekly_hosp_admissions              1.077102e+03  4.664141e+04  \n",
       "weekly_hosp_admissions_per_million  4.503300e+01  2.424482e+03  \n",
       "total_tests                         1.078539e+06  1.660391e+08  \n",
       "new_tests                           1.410700e+04  1.531394e+06  \n",
       "total_tests_per_thousand            8.592200e+01  1.926641e+03  \n",
       "new_tests_per_thousand              1.074000e+00  2.607100e+01  \n",
       "new_tests_smoothed                  1.513425e+04  1.296553e+06  \n",
       "new_tests_smoothed_per_thousand     1.075000e+00  1.917200e+01  \n",
       "tests_per_case                      9.479325e+01  4.586400e+04  \n",
       "positive_rate                       9.300000e-02  6.510000e-01  \n",
       "stringency_index                    7.778000e+01  1.000000e+02  \n",
       "population                          2.982597e+07  7.794799e+09  \n",
       "population_density                  2.142430e+02  1.934750e+04  \n",
       "median_age                          3.970000e+01  4.820000e+01  \n",
       "aged_65_older                       1.473800e+01  2.704900e+01  \n",
       "aged_70_older                       9.395000e+00  1.849300e+01  \n",
       "gdp_per_capita                      3.140084e+04  1.169356e+05  \n",
       "extreme_poverty                     1.810000e+01  7.760000e+01  \n",
       "cardiovasc_death_rate               3.189910e+02  7.244170e+02  \n",
       "diabetes_prevalence                 1.039000e+01  3.053000e+01  \n",
       "female_smokers                      1.960000e+01  4.400000e+01  \n",
       "male_smokers                        4.090000e+01  7.810000e+01  \n",
       "handwashing_facilities              8.374100e+01  9.899900e+01  \n",
       "hospital_beds_per_thousand          4.200000e+00  1.380000e+01  \n",
       "life_expectancy                     7.938000e+01  8.675000e+01  \n",
       "human_development_index             8.470000e-01  9.530000e-01  "
      ]
     },
     "execution_count": 12,
     "metadata": {},
     "output_type": "execute_result"
    }
   ],
   "source": [
    "df.describe().T"
   ]
  },
  {
   "cell_type": "markdown",
   "id": "88d74492-59ef-4b28-b4c8-1bb4a1bad4b7",
   "metadata": {},
   "source": [
    "### 3. Low Level Data Understanding "
   ]
  },
  {
   "cell_type": "markdown",
   "id": "5e37d376-9809-458e-8ebf-a08f7cb664a5",
   "metadata": {},
   "source": [
    "a. Find count of unique values in location column."
   ]
  },
  {
   "cell_type": "code",
   "execution_count": 15,
   "id": "f66f6b22-0189-4f5d-93e3-df0b1dccc4f4",
   "metadata": {},
   "outputs": [
    {
     "data": {
      "text/plain": [
       "216"
      ]
     },
     "execution_count": 15,
     "metadata": {},
     "output_type": "execute_result"
    }
   ],
   "source": [
    "df.location.nunique()"
   ]
  },
  {
   "cell_type": "code",
   "execution_count": 16,
   "id": "c7b30655-86f6-4232-a86d-b5590e731386",
   "metadata": {},
   "outputs": [
    {
     "data": {
      "text/plain": [
       "array(['Afghanistan', 'Albania', 'Algeria', 'Andorra', 'Angola',\n",
       "       'Anguilla', 'Antigua and Barbuda', 'Argentina', 'Armenia', 'Aruba',\n",
       "       'Australia', 'Austria', 'Azerbaijan', 'Bahamas', 'Bahrain',\n",
       "       'Bangladesh', 'Barbados', 'Belarus', 'Belgium', 'Belize', 'Benin',\n",
       "       'Bermuda', 'Bhutan', 'Bolivia', 'Bonaire Sint Eustatius and Saba',\n",
       "       'Bosnia and Herzegovina', 'Botswana', 'Brazil',\n",
       "       'British Virgin Islands', 'Brunei', 'Bulgaria', 'Burkina Faso',\n",
       "       'Burundi', 'Cambodia', 'Cameroon', 'Canada', 'Cape Verde',\n",
       "       'Cayman Islands', 'Central African Republic', 'Chad', 'Chile',\n",
       "       'China', 'Colombia', 'Comoros', 'Congo', 'Costa Rica',\n",
       "       \"Cote d'Ivoire\", 'Croatia', 'Cuba', 'Curacao', 'Cyprus',\n",
       "       'Czech Republic', 'Democratic Republic of Congo', 'Denmark',\n",
       "       'Djibouti', 'Dominica', 'Dominican Republic', 'Ecuador', 'Egypt',\n",
       "       'El Salvador', 'Equatorial Guinea', 'Eritrea', 'Estonia',\n",
       "       'Ethiopia', 'Faeroe Islands', 'Falkland Islands', 'Fiji',\n",
       "       'Finland', 'France', 'French Polynesia', 'Gabon', 'Gambia',\n",
       "       'Georgia', 'Germany', 'Ghana', 'Gibraltar', 'Greece', 'Greenland',\n",
       "       'Grenada', 'Guam', 'Guatemala', 'Guernsey', 'Guinea',\n",
       "       'Guinea-Bissau', 'Guyana', 'Haiti', 'Honduras', 'Hong Kong',\n",
       "       'Hungary', 'Iceland', 'India', 'Indonesia', 'Iran', 'Iraq',\n",
       "       'Ireland', 'Isle of Man', 'Israel', 'Italy', 'Jamaica', 'Japan',\n",
       "       'Jersey', 'Jordan', 'Kazakhstan', 'Kenya', 'Kosovo', 'Kuwait',\n",
       "       'Kyrgyzstan', 'Laos', 'Latvia', 'Lebanon', 'Lesotho', 'Liberia',\n",
       "       'Libya', 'Liechtenstein', 'Lithuania', 'Luxembourg', 'Macedonia',\n",
       "       'Madagascar', 'Malawi', 'Malaysia', 'Maldives', 'Mali', 'Malta',\n",
       "       'Marshall Islands', 'Mauritania', 'Mauritius', 'Mexico', 'Moldova',\n",
       "       'Monaco', 'Mongolia', 'Montenegro', 'Montserrat', 'Morocco',\n",
       "       'Mozambique', 'Myanmar', 'Namibia', 'Nepal', 'Netherlands',\n",
       "       'New Caledonia', 'New Zealand', 'Nicaragua', 'Niger', 'Nigeria',\n",
       "       'Northern Mariana Islands', 'Norway', 'Oman', 'Pakistan',\n",
       "       'Palestine', 'Panama', 'Papua New Guinea', 'Paraguay', 'Peru',\n",
       "       'Philippines', 'Poland', 'Portugal', 'Puerto Rico', 'Qatar',\n",
       "       'Romania', 'Russia', 'Rwanda', 'Saint Kitts and Nevis',\n",
       "       'Saint Lucia', 'Saint Vincent and the Grenadines', 'San Marino',\n",
       "       'Sao Tome and Principe', 'Saudi Arabia', 'Senegal', 'Serbia',\n",
       "       'Seychelles', 'Sierra Leone', 'Singapore',\n",
       "       'Sint Maarten (Dutch part)', 'Slovakia', 'Slovenia',\n",
       "       'Solomon Islands', 'Somalia', 'South Africa', 'South Korea',\n",
       "       'South Sudan', 'Spain', 'Sri Lanka', 'Sudan', 'Suriname',\n",
       "       'Swaziland', 'Sweden', 'Switzerland', 'Syria', 'Taiwan',\n",
       "       'Tajikistan', 'Tanzania', 'Thailand', 'Timor', 'Togo',\n",
       "       'Trinidad and Tobago', 'Tunisia', 'Turkey',\n",
       "       'Turks and Caicos Islands', 'Uganda', 'Ukraine',\n",
       "       'United Arab Emirates', 'United Kingdom', 'United States',\n",
       "       'United States Virgin Islands', 'Uruguay', 'Uzbekistan', 'Vanuatu',\n",
       "       'Vatican', 'Venezuela', 'Vietnam', 'Wallis and Futuna',\n",
       "       'Western Sahara', 'Yemen', 'Zambia', 'Zimbabwe', 'World',\n",
       "       'International'], dtype=object)"
      ]
     },
     "execution_count": 16,
     "metadata": {},
     "output_type": "execute_result"
    }
   ],
   "source": [
    "df.location.unique()"
   ]
  },
  {
   "cell_type": "markdown",
   "id": "4bb2a0f9-051b-4ba3-86ec-2100aeea8f94",
   "metadata": {},
   "source": [
    "b. Find which continent has maximum frequency using values counts."
   ]
  },
  {
   "cell_type": "code",
   "execution_count": 18,
   "id": "4f9d2c9f-e5a0-4b90-b3b9-fe9e67f6e32e",
   "metadata": {},
   "outputs": [
    {
     "data": {
      "text/plain": [
       "continent\n",
       "Europe           14828\n",
       "Africa           13637\n",
       "Asia             13528\n",
       "North America     9116\n",
       "South America     3404\n",
       "Oceania           2235\n",
       "Name: count, dtype: int64"
      ]
     },
     "execution_count": 18,
     "metadata": {},
     "output_type": "execute_result"
    }
   ],
   "source": [
    "df.continent.value_counts()"
   ]
  },
  {
   "cell_type": "markdown",
   "id": "6f973da1-4c84-40ee-aa18-a1cd087d371b",
   "metadata": {},
   "source": [
    "c. Find maximum & mean value in 'total_cases'."
   ]
  },
  {
   "cell_type": "code",
   "execution_count": 20,
   "id": "9462db1f-d8f7-4363-8184-80b0232218c0",
   "metadata": {},
   "outputs": [
    {
     "data": {
      "text/plain": [
       "167797.3688753302"
      ]
     },
     "execution_count": 20,
     "metadata": {},
     "output_type": "execute_result"
    }
   ],
   "source": [
    "df.total_cases.mean()"
   ]
  },
  {
   "cell_type": "code",
   "execution_count": 21,
   "id": "f9ac1b9f-eb9f-4427-95d6-308aef112eb4",
   "metadata": {},
   "outputs": [
    {
     "data": {
      "text/plain": [
       "55154651.0"
      ]
     },
     "execution_count": 21,
     "metadata": {},
     "output_type": "execute_result"
    }
   ],
   "source": [
    "np.max(df.total_cases)"
   ]
  },
  {
   "cell_type": "markdown",
   "id": "a698df58-b044-45c9-bea9-ddbfa2d18b7c",
   "metadata": {},
   "source": [
    "d. Find 25%,50% & 75% quartile value in 'total_deaths'"
   ]
  },
  {
   "cell_type": "code",
   "execution_count": 51,
   "id": "bc28ecc4-97aa-45d0-985c-c72886d7f44e",
   "metadata": {},
   "outputs": [
    {
     "data": {
      "text/plain": [
       "0.25     13.0\n",
       "0.50     84.0\n",
       "0.75    727.0\n",
       "Name: total_deaths, dtype: float64"
      ]
     },
     "execution_count": 51,
     "metadata": {},
     "output_type": "execute_result"
    }
   ],
   "source": [
    "df.total_deaths.quantile([0.25,0.50,0.75])"
   ]
  },
  {
   "cell_type": "markdown",
   "id": "c9a7ec68-42ba-41f1-8aa1-0383ee23b4e4",
   "metadata": {},
   "source": [
    "e. Find which continent has maximum 'human_development_index'."
   ]
  },
  {
   "cell_type": "code",
   "execution_count": 106,
   "id": "43dfa6f5-8a50-4cef-b9c0-b2db0112096e",
   "metadata": {},
   "outputs": [
    {
     "data": {
      "text/html": [
       "<div>\n",
       "<style scoped>\n",
       "    .dataframe tbody tr th:only-of-type {\n",
       "        vertical-align: middle;\n",
       "    }\n",
       "\n",
       "    .dataframe tbody tr th {\n",
       "        vertical-align: top;\n",
       "    }\n",
       "\n",
       "    .dataframe thead th {\n",
       "        text-align: right;\n",
       "    }\n",
       "</style>\n",
       "<table border=\"1\" class=\"dataframe\">\n",
       "  <thead>\n",
       "    <tr style=\"text-align: right;\">\n",
       "      <th></th>\n",
       "      <th>continent</th>\n",
       "    </tr>\n",
       "  </thead>\n",
       "  <tbody>\n",
       "    <tr>\n",
       "      <th>38632</th>\n",
       "      <td>Europe</td>\n",
       "    </tr>\n",
       "  </tbody>\n",
       "</table>\n",
       "</div>"
      ],
      "text/plain": [
       "      continent\n",
       "38632    Europe"
      ]
     },
     "execution_count": 106,
     "metadata": {},
     "output_type": "execute_result"
    }
   ],
   "source": [
    "df[df.human_development_index == df.human_development_index.max()][['continent']].head(1)"
   ]
  },
  {
   "cell_type": "markdown",
   "id": "5d0347ec-060d-411f-b7da-1d9fa77bff23",
   "metadata": {},
   "source": [
    "f. Find which continent has minimum 'gdp_per_capita'."
   ]
  },
  {
   "cell_type": "code",
   "execution_count": 109,
   "id": "17a6d9a7-bab7-48cd-a765-e01978a82b37",
   "metadata": {},
   "outputs": [
    {
     "data": {
      "text/html": [
       "<div>\n",
       "<style scoped>\n",
       "    .dataframe tbody tr th:only-of-type {\n",
       "        vertical-align: middle;\n",
       "    }\n",
       "\n",
       "    .dataframe tbody tr th {\n",
       "        vertical-align: top;\n",
       "    }\n",
       "\n",
       "    .dataframe thead th {\n",
       "        text-align: right;\n",
       "    }\n",
       "</style>\n",
       "<table border=\"1\" class=\"dataframe\">\n",
       "  <thead>\n",
       "    <tr style=\"text-align: right;\">\n",
       "      <th></th>\n",
       "      <th>continent</th>\n",
       "    </tr>\n",
       "  </thead>\n",
       "  <tbody>\n",
       "    <tr>\n",
       "      <th>10259</th>\n",
       "      <td>Africa</td>\n",
       "    </tr>\n",
       "  </tbody>\n",
       "</table>\n",
       "</div>"
      ],
      "text/plain": [
       "      continent\n",
       "10259    Africa"
      ]
     },
     "execution_count": 109,
     "metadata": {},
     "output_type": "execute_result"
    }
   ],
   "source": [
    "df[df.gdp_per_capita == df.gdp_per_capita.min()][['continent']].head(1)"
   ]
  },
  {
   "cell_type": "markdown",
   "id": "5279e322-25d1-43f9-8e2a-592e953be0cb",
   "metadata": {},
   "source": [
    "4. Filter the dataframe with only this columns['continent','location','date','total_cases','total_deaths','gdp_per_capita','human_development_index'] and update the data frame."
   ]
  },
  {
   "cell_type": "code",
   "execution_count": 112,
   "id": "e7478d62-89b3-42b8-a766-39103e468c21",
   "metadata": {},
   "outputs": [
    {
     "data": {
      "text/html": [
       "<div>\n",
       "<style scoped>\n",
       "    .dataframe tbody tr th:only-of-type {\n",
       "        vertical-align: middle;\n",
       "    }\n",
       "\n",
       "    .dataframe tbody tr th {\n",
       "        vertical-align: top;\n",
       "    }\n",
       "\n",
       "    .dataframe thead th {\n",
       "        text-align: right;\n",
       "    }\n",
       "</style>\n",
       "<table border=\"1\" class=\"dataframe\">\n",
       "  <thead>\n",
       "    <tr style=\"text-align: right;\">\n",
       "      <th></th>\n",
       "      <th>continent</th>\n",
       "      <th>location</th>\n",
       "      <th>date</th>\n",
       "      <th>total_cases</th>\n",
       "      <th>total_deaths</th>\n",
       "      <th>gdp_per_capita</th>\n",
       "      <th>human_development_index</th>\n",
       "    </tr>\n",
       "  </thead>\n",
       "  <tbody>\n",
       "    <tr>\n",
       "      <th>0</th>\n",
       "      <td>Asia</td>\n",
       "      <td>Afghanistan</td>\n",
       "      <td>31/12/19</td>\n",
       "      <td>NaN</td>\n",
       "      <td>NaN</td>\n",
       "      <td>1803.987</td>\n",
       "      <td>0.498</td>\n",
       "    </tr>\n",
       "    <tr>\n",
       "      <th>1</th>\n",
       "      <td>Asia</td>\n",
       "      <td>Afghanistan</td>\n",
       "      <td>01/01/20</td>\n",
       "      <td>NaN</td>\n",
       "      <td>NaN</td>\n",
       "      <td>1803.987</td>\n",
       "      <td>0.498</td>\n",
       "    </tr>\n",
       "    <tr>\n",
       "      <th>2</th>\n",
       "      <td>Asia</td>\n",
       "      <td>Afghanistan</td>\n",
       "      <td>02/01/20</td>\n",
       "      <td>NaN</td>\n",
       "      <td>NaN</td>\n",
       "      <td>1803.987</td>\n",
       "      <td>0.498</td>\n",
       "    </tr>\n",
       "    <tr>\n",
       "      <th>3</th>\n",
       "      <td>Asia</td>\n",
       "      <td>Afghanistan</td>\n",
       "      <td>03/01/20</td>\n",
       "      <td>NaN</td>\n",
       "      <td>NaN</td>\n",
       "      <td>1803.987</td>\n",
       "      <td>0.498</td>\n",
       "    </tr>\n",
       "    <tr>\n",
       "      <th>4</th>\n",
       "      <td>Asia</td>\n",
       "      <td>Afghanistan</td>\n",
       "      <td>04/01/20</td>\n",
       "      <td>NaN</td>\n",
       "      <td>NaN</td>\n",
       "      <td>1803.987</td>\n",
       "      <td>0.498</td>\n",
       "    </tr>\n",
       "  </tbody>\n",
       "</table>\n",
       "</div>"
      ],
      "text/plain": [
       "  continent     location      date  total_cases  total_deaths  gdp_per_capita  \\\n",
       "0      Asia  Afghanistan  31/12/19          NaN           NaN        1803.987   \n",
       "1      Asia  Afghanistan  01/01/20          NaN           NaN        1803.987   \n",
       "2      Asia  Afghanistan  02/01/20          NaN           NaN        1803.987   \n",
       "3      Asia  Afghanistan  03/01/20          NaN           NaN        1803.987   \n",
       "4      Asia  Afghanistan  04/01/20          NaN           NaN        1803.987   \n",
       "\n",
       "   human_development_index  \n",
       "0                    0.498  \n",
       "1                    0.498  \n",
       "2                    0.498  \n",
       "3                    0.498  \n",
       "4                    0.498  "
      ]
     },
     "execution_count": 112,
     "metadata": {},
     "output_type": "execute_result"
    }
   ],
   "source": [
    "df_updated = df[['continent','location','date','total_cases','total_deaths','gdp_per_capita','human_development_index']]\n",
    "df_updated.head()"
   ]
  },
  {
   "cell_type": "markdown",
   "id": "e0d19704-b750-485f-a67e-36da2e1461f9",
   "metadata": {},
   "source": [
    "### 5. Data Cleaning"
   ]
  },
  {
   "cell_type": "markdown",
   "id": "fdbaa537-9f24-458e-8a6b-a91bd295f024",
   "metadata": {},
   "source": [
    "a. Remove all duplicates observations"
   ]
  },
  {
   "cell_type": "code",
   "execution_count": 119,
   "id": "96c4eb90-374c-4f50-b1d4-1ca9b1a43e9a",
   "metadata": {},
   "outputs": [
    {
     "data": {
      "text/html": [
       "<div>\n",
       "<style scoped>\n",
       "    .dataframe tbody tr th:only-of-type {\n",
       "        vertical-align: middle;\n",
       "    }\n",
       "\n",
       "    .dataframe tbody tr th {\n",
       "        vertical-align: top;\n",
       "    }\n",
       "\n",
       "    .dataframe thead th {\n",
       "        text-align: right;\n",
       "    }\n",
       "</style>\n",
       "<table border=\"1\" class=\"dataframe\">\n",
       "  <thead>\n",
       "    <tr style=\"text-align: right;\">\n",
       "      <th></th>\n",
       "      <th>iso_code</th>\n",
       "      <th>continent</th>\n",
       "      <th>location</th>\n",
       "      <th>date</th>\n",
       "      <th>total_cases</th>\n",
       "      <th>new_cases</th>\n",
       "      <th>new_cases_smoothed</th>\n",
       "      <th>total_deaths</th>\n",
       "      <th>new_deaths</th>\n",
       "      <th>new_deaths_smoothed</th>\n",
       "      <th>...</th>\n",
       "      <th>gdp_per_capita</th>\n",
       "      <th>extreme_poverty</th>\n",
       "      <th>cardiovasc_death_rate</th>\n",
       "      <th>diabetes_prevalence</th>\n",
       "      <th>female_smokers</th>\n",
       "      <th>male_smokers</th>\n",
       "      <th>handwashing_facilities</th>\n",
       "      <th>hospital_beds_per_thousand</th>\n",
       "      <th>life_expectancy</th>\n",
       "      <th>human_development_index</th>\n",
       "    </tr>\n",
       "  </thead>\n",
       "  <tbody>\n",
       "  </tbody>\n",
       "</table>\n",
       "<p>0 rows × 49 columns</p>\n",
       "</div>"
      ],
      "text/plain": [
       "Empty DataFrame\n",
       "Columns: [iso_code, continent, location, date, total_cases, new_cases, new_cases_smoothed, total_deaths, new_deaths, new_deaths_smoothed, total_cases_per_million, new_cases_per_million, new_cases_smoothed_per_million, total_deaths_per_million, new_deaths_per_million, new_deaths_smoothed_per_million, reproduction_rate, icu_patients, icu_patients_per_million, hosp_patients, hosp_patients_per_million, weekly_icu_admissions, weekly_icu_admissions_per_million, weekly_hosp_admissions, weekly_hosp_admissions_per_million, total_tests, new_tests, total_tests_per_thousand, new_tests_per_thousand, new_tests_smoothed, new_tests_smoothed_per_thousand, tests_per_case, positive_rate, stringency_index, population, population_density, median_age, aged_65_older, aged_70_older, gdp_per_capita, extreme_poverty, cardiovasc_death_rate, diabetes_prevalence, female_smokers, male_smokers, handwashing_facilities, hospital_beds_per_thousand, life_expectancy, human_development_index]\n",
       "Index: []\n",
       "\n",
       "[0 rows x 49 columns]"
      ]
     },
     "execution_count": 119,
     "metadata": {},
     "output_type": "execute_result"
    }
   ],
   "source": [
    "df[df_updated.duplicated()]"
   ]
  },
  {
   "cell_type": "markdown",
   "id": "0d26d452-ff91-445f-87f3-98efdab7e8ea",
   "metadata": {},
   "source": [
    "b. Find missing values in all columns"
   ]
  },
  {
   "cell_type": "code",
   "execution_count": 122,
   "id": "9c417188-3784-4d21-b327-c52872f70074",
   "metadata": {},
   "outputs": [
    {
     "data": {
      "text/plain": [
       "continent                    646\n",
       "location                       0\n",
       "date                           0\n",
       "total_cases                 3636\n",
       "total_deaths               13026\n",
       "gdp_per_capita              7027\n",
       "human_development_index     8147\n",
       "dtype: int64"
      ]
     },
     "execution_count": 122,
     "metadata": {},
     "output_type": "execute_result"
    }
   ],
   "source": [
    "df_updated.isna().sum()"
   ]
  },
  {
   "cell_type": "markdown",
   "id": "015a085d-ce4b-4a5b-97ac-cd63080fc50f",
   "metadata": {},
   "source": [
    "c. Remove all observations where continent column value is missing"
   ]
  },
  {
   "cell_type": "code",
   "execution_count": 124,
   "id": "f5364589-e39c-49cf-98a1-e9f7bb9d7d24",
   "metadata": {},
   "outputs": [
    {
     "name": "stderr",
     "output_type": "stream",
     "text": [
      "C:\\Users\\Anutthamaa\\AppData\\Local\\Temp\\ipykernel_31368\\1012225444.py:1: SettingWithCopyWarning: \n",
      "A value is trying to be set on a copy of a slice from a DataFrame\n",
      "\n",
      "See the caveats in the documentation: https://pandas.pydata.org/pandas-docs/stable/user_guide/indexing.html#returning-a-view-versus-a-copy\n",
      "  df_updated.dropna(subset=['continent'],inplace=True)\n"
     ]
    }
   ],
   "source": [
    "df_updated.dropna(subset=['continent'],inplace=True)"
   ]
  },
  {
   "cell_type": "code",
   "execution_count": 126,
   "id": "9d8e31a6-2ed9-4b23-abcb-5effa0c85a36",
   "metadata": {},
   "outputs": [
    {
     "data": {
      "text/plain": [
       "continent                      0\n",
       "location                       0\n",
       "date                           0\n",
       "total_cases                 3600\n",
       "total_deaths               12964\n",
       "gdp_per_capita              6704\n",
       "human_development_index     7501\n",
       "dtype: int64"
      ]
     },
     "execution_count": 126,
     "metadata": {},
     "output_type": "execute_result"
    }
   ],
   "source": [
    "df_updated.isna().sum()"
   ]
  },
  {
   "cell_type": "markdown",
   "id": "3356a22e-18ab-49cc-a889-272b0a51b0f2",
   "metadata": {},
   "source": [
    "d. Fill all missing values with 0"
   ]
  },
  {
   "cell_type": "code",
   "execution_count": 132,
   "id": "f5516e5b-5fe0-403d-ace3-91bef3e71f4a",
   "metadata": {},
   "outputs": [
    {
     "name": "stderr",
     "output_type": "stream",
     "text": [
      "C:\\Users\\Anutthamaa\\AppData\\Local\\Temp\\ipykernel_31368\\2959571245.py:1: SettingWithCopyWarning: \n",
      "A value is trying to be set on a copy of a slice from a DataFrame\n",
      "\n",
      "See the caveats in the documentation: https://pandas.pydata.org/pandas-docs/stable/user_guide/indexing.html#returning-a-view-versus-a-copy\n",
      "  df_updated.fillna(0, inplace=True)\n"
     ]
    }
   ],
   "source": [
    "df_updated.fillna(0, inplace=True)"
   ]
  },
  {
   "cell_type": "code",
   "execution_count": 134,
   "id": "591f087a-39c6-4e19-a014-e0fbd6df92f1",
   "metadata": {},
   "outputs": [
    {
     "data": {
      "text/plain": [
       "continent                  0\n",
       "location                   0\n",
       "date                       0\n",
       "total_cases                0\n",
       "total_deaths               0\n",
       "gdp_per_capita             0\n",
       "human_development_index    0\n",
       "dtype: int64"
      ]
     },
     "execution_count": 134,
     "metadata": {},
     "output_type": "execute_result"
    }
   ],
   "source": [
    "df_updated.isna().sum()"
   ]
  },
  {
   "cell_type": "markdown",
   "id": "6623e9a7-a167-4ccc-a1c0-fb79956b4234",
   "metadata": {},
   "source": [
    "### 6. Date time format "
   ]
  },
  {
   "cell_type": "markdown",
   "id": "689ad099-eb8f-4ecb-a06c-dbebcec9063f",
   "metadata": {},
   "source": [
    "a. Convert date column in datetime format using pandas.to_datetime"
   ]
  },
  {
   "cell_type": "code",
   "execution_count": 150,
   "id": "dda96d8b-3a93-4424-984a-606575689cd7",
   "metadata": {},
   "outputs": [
    {
     "name": "stderr",
     "output_type": "stream",
     "text": [
      "C:\\Users\\Anutthamaa\\AppData\\Local\\Temp\\ipykernel_31368\\1559715483.py:1: UserWarning: Could not infer format, so each element will be parsed individually, falling back to `dateutil`. To ensure parsing is consistent and as-expected, please specify a format.\n",
      "  df_updated['date']  = pd.to_datetime(df_updated['date'])\n",
      "C:\\Users\\Anutthamaa\\AppData\\Local\\Temp\\ipykernel_31368\\1559715483.py:1: SettingWithCopyWarning: \n",
      "A value is trying to be set on a copy of a slice from a DataFrame.\n",
      "Try using .loc[row_indexer,col_indexer] = value instead\n",
      "\n",
      "See the caveats in the documentation: https://pandas.pydata.org/pandas-docs/stable/user_guide/indexing.html#returning-a-view-versus-a-copy\n",
      "  df_updated['date']  = pd.to_datetime(df_updated['date'])\n"
     ]
    }
   ],
   "source": [
    "df_updated['date']  = pd.to_datetime(df_updated['date'])"
   ]
  },
  {
   "cell_type": "code",
   "execution_count": 152,
   "id": "5434221f-4b82-4fd3-9f3f-ca764650dd1e",
   "metadata": {},
   "outputs": [
    {
     "name": "stdout",
     "output_type": "stream",
     "text": [
      "<class 'pandas.core.frame.DataFrame'>\n",
      "Index: 56748 entries, 0 to 56747\n",
      "Data columns (total 7 columns):\n",
      " #   Column                   Non-Null Count  Dtype         \n",
      "---  ------                   --------------  -----         \n",
      " 0   continent                56748 non-null  object        \n",
      " 1   location                 56748 non-null  object        \n",
      " 2   date                     56748 non-null  datetime64[ns]\n",
      " 3   total_cases              56748 non-null  float64       \n",
      " 4   total_deaths             56748 non-null  float64       \n",
      " 5   gdp_per_capita           56748 non-null  float64       \n",
      " 6   human_development_index  56748 non-null  float64       \n",
      "dtypes: datetime64[ns](1), float64(4), object(2)\n",
      "memory usage: 3.5+ MB\n"
     ]
    }
   ],
   "source": [
    "df_updated.info()"
   ]
  },
  {
   "cell_type": "markdown",
   "id": "c983df94-75d8-46b5-b7f9-e29fc7cfa54c",
   "metadata": {},
   "source": [
    "b. Create new column month after extracting month data from date column."
   ]
  },
  {
   "cell_type": "code",
   "execution_count": 162,
   "id": "e188f76a-e524-4ddc-8a77-983dd621ab91",
   "metadata": {},
   "outputs": [
    {
     "name": "stderr",
     "output_type": "stream",
     "text": [
      "C:\\Users\\Anutthamaa\\AppData\\Local\\Temp\\ipykernel_31368\\2956230574.py:1: SettingWithCopyWarning: \n",
      "A value is trying to be set on a copy of a slice from a DataFrame.\n",
      "Try using .loc[row_indexer,col_indexer] = value instead\n",
      "\n",
      "See the caveats in the documentation: https://pandas.pydata.org/pandas-docs/stable/user_guide/indexing.html#returning-a-view-versus-a-copy\n",
      "  df_updated['month'] = df_updated['date'].dt.month\n"
     ]
    }
   ],
   "source": [
    "df_updated['month'] = df_updated['date'].dt.month"
   ]
  },
  {
   "cell_type": "code",
   "execution_count": 164,
   "id": "e0098b0d-893b-4910-b366-3c2e6c5dbec7",
   "metadata": {},
   "outputs": [
    {
     "data": {
      "text/html": [
       "<div>\n",
       "<style scoped>\n",
       "    .dataframe tbody tr th:only-of-type {\n",
       "        vertical-align: middle;\n",
       "    }\n",
       "\n",
       "    .dataframe tbody tr th {\n",
       "        vertical-align: top;\n",
       "    }\n",
       "\n",
       "    .dataframe thead th {\n",
       "        text-align: right;\n",
       "    }\n",
       "</style>\n",
       "<table border=\"1\" class=\"dataframe\">\n",
       "  <thead>\n",
       "    <tr style=\"text-align: right;\">\n",
       "      <th></th>\n",
       "      <th>continent</th>\n",
       "      <th>location</th>\n",
       "      <th>date</th>\n",
       "      <th>total_cases</th>\n",
       "      <th>total_deaths</th>\n",
       "      <th>gdp_per_capita</th>\n",
       "      <th>human_development_index</th>\n",
       "      <th>month</th>\n",
       "    </tr>\n",
       "  </thead>\n",
       "  <tbody>\n",
       "    <tr>\n",
       "      <th>0</th>\n",
       "      <td>Asia</td>\n",
       "      <td>Afghanistan</td>\n",
       "      <td>2019-12-31</td>\n",
       "      <td>0.0</td>\n",
       "      <td>0.0</td>\n",
       "      <td>1803.987</td>\n",
       "      <td>0.498</td>\n",
       "      <td>12</td>\n",
       "    </tr>\n",
       "    <tr>\n",
       "      <th>1</th>\n",
       "      <td>Asia</td>\n",
       "      <td>Afghanistan</td>\n",
       "      <td>2020-01-01</td>\n",
       "      <td>0.0</td>\n",
       "      <td>0.0</td>\n",
       "      <td>1803.987</td>\n",
       "      <td>0.498</td>\n",
       "      <td>1</td>\n",
       "    </tr>\n",
       "    <tr>\n",
       "      <th>2</th>\n",
       "      <td>Asia</td>\n",
       "      <td>Afghanistan</td>\n",
       "      <td>2020-02-01</td>\n",
       "      <td>0.0</td>\n",
       "      <td>0.0</td>\n",
       "      <td>1803.987</td>\n",
       "      <td>0.498</td>\n",
       "      <td>2</td>\n",
       "    </tr>\n",
       "    <tr>\n",
       "      <th>3</th>\n",
       "      <td>Asia</td>\n",
       "      <td>Afghanistan</td>\n",
       "      <td>2020-03-01</td>\n",
       "      <td>0.0</td>\n",
       "      <td>0.0</td>\n",
       "      <td>1803.987</td>\n",
       "      <td>0.498</td>\n",
       "      <td>3</td>\n",
       "    </tr>\n",
       "    <tr>\n",
       "      <th>4</th>\n",
       "      <td>Asia</td>\n",
       "      <td>Afghanistan</td>\n",
       "      <td>2020-04-01</td>\n",
       "      <td>0.0</td>\n",
       "      <td>0.0</td>\n",
       "      <td>1803.987</td>\n",
       "      <td>0.498</td>\n",
       "      <td>4</td>\n",
       "    </tr>\n",
       "  </tbody>\n",
       "</table>\n",
       "</div>"
      ],
      "text/plain": [
       "  continent     location       date  total_cases  total_deaths  \\\n",
       "0      Asia  Afghanistan 2019-12-31          0.0           0.0   \n",
       "1      Asia  Afghanistan 2020-01-01          0.0           0.0   \n",
       "2      Asia  Afghanistan 2020-02-01          0.0           0.0   \n",
       "3      Asia  Afghanistan 2020-03-01          0.0           0.0   \n",
       "4      Asia  Afghanistan 2020-04-01          0.0           0.0   \n",
       "\n",
       "   gdp_per_capita  human_development_index  month  \n",
       "0        1803.987                    0.498     12  \n",
       "1        1803.987                    0.498      1  \n",
       "2        1803.987                    0.498      2  \n",
       "3        1803.987                    0.498      3  \n",
       "4        1803.987                    0.498      4  "
      ]
     },
     "execution_count": 164,
     "metadata": {},
     "output_type": "execute_result"
    }
   ],
   "source": [
    "df_updated.head()"
   ]
  },
  {
   "cell_type": "markdown",
   "id": "97e344c2-84ac-4f65-94a4-5bed535e5514",
   "metadata": {},
   "source": [
    "### 7. Data Aggregation"
   ]
  },
  {
   "cell_type": "markdown",
   "id": "bcac9a50-c11a-42de-8c14-af43991c52d6",
   "metadata": {},
   "source": [
    "a. Find max value in all columns using groupby function on 'continent' column"
   ]
  },
  {
   "cell_type": "code",
   "execution_count": 182,
   "id": "fcd67265-423e-4894-8412-2f0c6ad21d6a",
   "metadata": {},
   "outputs": [
    {
     "data": {
      "text/html": [
       "<div>\n",
       "<style scoped>\n",
       "    .dataframe tbody tr th:only-of-type {\n",
       "        vertical-align: middle;\n",
       "    }\n",
       "\n",
       "    .dataframe tbody tr th {\n",
       "        vertical-align: top;\n",
       "    }\n",
       "\n",
       "    .dataframe thead th {\n",
       "        text-align: right;\n",
       "    }\n",
       "</style>\n",
       "<table border=\"1\" class=\"dataframe\">\n",
       "  <thead>\n",
       "    <tr style=\"text-align: right;\">\n",
       "      <th></th>\n",
       "      <th>total_cases</th>\n",
       "      <th>total_deaths</th>\n",
       "      <th>gdp_per_capita</th>\n",
       "      <th>human_development_index</th>\n",
       "    </tr>\n",
       "    <tr>\n",
       "      <th>continent</th>\n",
       "      <th></th>\n",
       "      <th></th>\n",
       "      <th></th>\n",
       "      <th></th>\n",
       "    </tr>\n",
       "  </thead>\n",
       "  <tbody>\n",
       "    <tr>\n",
       "      <th>Africa</th>\n",
       "      <td>752269.0</td>\n",
       "      <td>20314.0</td>\n",
       "      <td>26382.287</td>\n",
       "      <td>0.797</td>\n",
       "    </tr>\n",
       "    <tr>\n",
       "      <th>Asia</th>\n",
       "      <td>8874290.0</td>\n",
       "      <td>130519.0</td>\n",
       "      <td>116935.600</td>\n",
       "      <td>0.933</td>\n",
       "    </tr>\n",
       "    <tr>\n",
       "      <th>Europe</th>\n",
       "      <td>1991233.0</td>\n",
       "      <td>52147.0</td>\n",
       "      <td>94277.965</td>\n",
       "      <td>0.953</td>\n",
       "    </tr>\n",
       "    <tr>\n",
       "      <th>North America</th>\n",
       "      <td>11205486.0</td>\n",
       "      <td>247220.0</td>\n",
       "      <td>54225.446</td>\n",
       "      <td>0.926</td>\n",
       "    </tr>\n",
       "    <tr>\n",
       "      <th>Oceania</th>\n",
       "      <td>27750.0</td>\n",
       "      <td>907.0</td>\n",
       "      <td>44648.710</td>\n",
       "      <td>0.939</td>\n",
       "    </tr>\n",
       "    <tr>\n",
       "      <th>South America</th>\n",
       "      <td>5876464.0</td>\n",
       "      <td>166014.0</td>\n",
       "      <td>22767.037</td>\n",
       "      <td>0.843</td>\n",
       "    </tr>\n",
       "  </tbody>\n",
       "</table>\n",
       "</div>"
      ],
      "text/plain": [
       "               total_cases  total_deaths  gdp_per_capita  \\\n",
       "continent                                                  \n",
       "Africa            752269.0       20314.0       26382.287   \n",
       "Asia             8874290.0      130519.0      116935.600   \n",
       "Europe           1991233.0       52147.0       94277.965   \n",
       "North America   11205486.0      247220.0       54225.446   \n",
       "Oceania            27750.0         907.0       44648.710   \n",
       "South America    5876464.0      166014.0       22767.037   \n",
       "\n",
       "               human_development_index  \n",
       "continent                               \n",
       "Africa                           0.797  \n",
       "Asia                             0.933  \n",
       "Europe                           0.953  \n",
       "North America                    0.926  \n",
       "Oceania                          0.939  \n",
       "South America                    0.843  "
      ]
     },
     "execution_count": 182,
     "metadata": {},
     "output_type": "execute_result"
    }
   ],
   "source": [
    "df_updated.groupby('continent')[['total_cases','total_deaths','gdp_per_capita','human_development_index']].max()"
   ]
  },
  {
   "cell_type": "markdown",
   "id": "e35f2bfb-1460-4c45-b8b4-af71f5a47157",
   "metadata": {},
   "source": [
    "b. Store the result in a new dataframe named 'df_groupby'."
   ]
  },
  {
   "cell_type": "code",
   "execution_count": 197,
   "id": "cdd60591-99bf-4c8c-b19f-7a9d19f134b2",
   "metadata": {},
   "outputs": [],
   "source": [
    "df_groupby = df_updated.groupby('continent')[['total_cases','total_deaths','gdp_per_capita','human_development_index']].max()\n",
    "df_groupby.reset_index(inplace=True)"
   ]
  },
  {
   "cell_type": "markdown",
   "id": "5ab93520-5868-43b5-ad23-2723db6ae5b5",
   "metadata": {},
   "source": [
    "### 8. Feature Engineering "
   ]
  },
  {
   "cell_type": "markdown",
   "id": "ac6c43e2-1467-40b0-8867-f3471f9e78ee",
   "metadata": {},
   "source": [
    "a. Create a new feature 'total_deaths_to_total_cases' by ratio of 'total_deaths' column to 'total_cases'"
   ]
  },
  {
   "cell_type": "code",
   "execution_count": 205,
   "id": "ef0c16e0-48b0-436e-8304-f1c64b2cee3b",
   "metadata": {},
   "outputs": [],
   "source": [
    "df_groupby['total_deaths_to_total_cases'] = np.round(df_groupby.total_deaths/df_groupby.total_cases,3)"
   ]
  },
  {
   "cell_type": "code",
   "execution_count": 207,
   "id": "49274867-80b9-4fd8-9502-907b75fab4d6",
   "metadata": {},
   "outputs": [
    {
     "data": {
      "text/html": [
       "<div>\n",
       "<style scoped>\n",
       "    .dataframe tbody tr th:only-of-type {\n",
       "        vertical-align: middle;\n",
       "    }\n",
       "\n",
       "    .dataframe tbody tr th {\n",
       "        vertical-align: top;\n",
       "    }\n",
       "\n",
       "    .dataframe thead th {\n",
       "        text-align: right;\n",
       "    }\n",
       "</style>\n",
       "<table border=\"1\" class=\"dataframe\">\n",
       "  <thead>\n",
       "    <tr style=\"text-align: right;\">\n",
       "      <th></th>\n",
       "      <th>continent</th>\n",
       "      <th>total_cases</th>\n",
       "      <th>total_deaths</th>\n",
       "      <th>gdp_per_capita</th>\n",
       "      <th>human_development_index</th>\n",
       "      <th>total_deaths_to_total_cases</th>\n",
       "    </tr>\n",
       "  </thead>\n",
       "  <tbody>\n",
       "    <tr>\n",
       "      <th>0</th>\n",
       "      <td>Africa</td>\n",
       "      <td>752269.0</td>\n",
       "      <td>20314.0</td>\n",
       "      <td>26382.287</td>\n",
       "      <td>0.797</td>\n",
       "      <td>0.027</td>\n",
       "    </tr>\n",
       "    <tr>\n",
       "      <th>1</th>\n",
       "      <td>Asia</td>\n",
       "      <td>8874290.0</td>\n",
       "      <td>130519.0</td>\n",
       "      <td>116935.600</td>\n",
       "      <td>0.933</td>\n",
       "      <td>0.015</td>\n",
       "    </tr>\n",
       "    <tr>\n",
       "      <th>2</th>\n",
       "      <td>Europe</td>\n",
       "      <td>1991233.0</td>\n",
       "      <td>52147.0</td>\n",
       "      <td>94277.965</td>\n",
       "      <td>0.953</td>\n",
       "      <td>0.026</td>\n",
       "    </tr>\n",
       "    <tr>\n",
       "      <th>3</th>\n",
       "      <td>North America</td>\n",
       "      <td>11205486.0</td>\n",
       "      <td>247220.0</td>\n",
       "      <td>54225.446</td>\n",
       "      <td>0.926</td>\n",
       "      <td>0.022</td>\n",
       "    </tr>\n",
       "    <tr>\n",
       "      <th>4</th>\n",
       "      <td>Oceania</td>\n",
       "      <td>27750.0</td>\n",
       "      <td>907.0</td>\n",
       "      <td>44648.710</td>\n",
       "      <td>0.939</td>\n",
       "      <td>0.033</td>\n",
       "    </tr>\n",
       "  </tbody>\n",
       "</table>\n",
       "</div>"
      ],
      "text/plain": [
       "       continent  total_cases  total_deaths  gdp_per_capita  \\\n",
       "0         Africa     752269.0       20314.0       26382.287   \n",
       "1           Asia    8874290.0      130519.0      116935.600   \n",
       "2         Europe    1991233.0       52147.0       94277.965   \n",
       "3  North America   11205486.0      247220.0       54225.446   \n",
       "4        Oceania      27750.0         907.0       44648.710   \n",
       "\n",
       "   human_development_index  total_deaths_to_total_cases  \n",
       "0                    0.797                        0.027  \n",
       "1                    0.933                        0.015  \n",
       "2                    0.953                        0.026  \n",
       "3                    0.926                        0.022  \n",
       "4                    0.939                        0.033  "
      ]
     },
     "execution_count": 207,
     "metadata": {},
     "output_type": "execute_result"
    }
   ],
   "source": [
    "df_groupby.head()"
   ]
  },
  {
   "cell_type": "markdown",
   "id": "9c608a20-a17b-459d-95e0-8f45205c4ed7",
   "metadata": {},
   "source": [
    "### 9. Data Visualization "
   ]
  },
  {
   "cell_type": "markdown",
   "id": "99e01435-cf8b-4c45-9081-edc1eaff1f3e",
   "metadata": {},
   "source": [
    "a. Perform Univariate analysis on 'gdp_per_capita' column by plotting histogram using seaborn dist plot."
   ]
  },
  {
   "cell_type": "code",
   "execution_count": 228,
   "id": "cf5355b6-24c4-4072-b8b9-71f829ffd5bf",
   "metadata": {},
   "outputs": [
    {
     "name": "stderr",
     "output_type": "stream",
     "text": [
      "C:\\Users\\Anutthamaa\\AppData\\Local\\Temp\\ipykernel_31368\\1055257113.py:1: UserWarning: \n",
      "\n",
      "`distplot` is a deprecated function and will be removed in seaborn v0.14.0.\n",
      "\n",
      "Please adapt your code to use either `displot` (a figure-level function with\n",
      "similar flexibility) or `histplot` (an axes-level function for histograms).\n",
      "\n",
      "For a guide to updating your code to use the new functions, please see\n",
      "https://gist.github.com/mwaskom/de44147ed2974457ad6372750bbe5751\n",
      "\n",
      "  sns.distplot(df_groupby['gdp_per_capita'], kde=True)\n"
     ]
    },
    {
     "data": {
      "text/plain": [
       "<Axes: xlabel='gdp_per_capita', ylabel='Density'>"
      ]
     },
     "execution_count": 228,
     "metadata": {},
     "output_type": "execute_result"
    },
    {
     "data": {
      "image/png": "[encoded data removed]",
      "text/plain": [
       "<Figure size 640x480 with 1 Axes>"
      ]
     },
     "metadata": {},
     "output_type": "display_data"
    }
   ],
   "source": [
    "sns.distplot(df_groupby['gdp_per_capita'], kde=True)"
   ]
  },
  {
   "cell_type": "markdown",
   "id": "e6dbd258-5180-4584-a099-de4f9752aaa1",
   "metadata": {},
   "source": [
    "b. Plot a scatter plot of 'total_cases' & 'gdp_per_capita'"
   ]
  },
  {
   "cell_type": "code",
   "execution_count": 243,
   "id": "328ee125-740c-41b2-824d-6e95068ce274",
   "metadata": {},
   "outputs": [
    {
     "data": {
      "text/plain": [
       "<Axes: xlabel='gdp_per_capita', ylabel='total_cases'>"
      ]
     },
     "execution_count": 243,
     "metadata": {},
     "output_type": "execute_result"
    },
    {
     "data": {
      "image/png": "[encoded data removed]",
      "text/plain": [
       "<Figure size 640x480 with 1 Axes>"
      ]
     },
     "metadata": {},
     "output_type": "display_data"
    }
   ],
   "source": [
    "sns.scatterplot(y='total_cases',x='gdp_per_capita',data=df_groupby)"
   ]
  },
  {
   "cell_type": "markdown",
   "id": "6dff8065-8851-484a-9d3e-0ea45b1bf07c",
   "metadata": {},
   "source": [
    "c. Plot Pairplot on df_groupby dataset."
   ]
  },
  {
   "cell_type": "code",
   "execution_count": 246,
   "id": "bd59edac-cfb2-4fef-9350-fe1cf54702d0",
   "metadata": {},
   "outputs": [
    {
     "data": {
      "text/plain": [
       "<seaborn.axisgrid.PairGrid at 0x20cac33e960>"
      ]
     },
     "execution_count": 246,
     "metadata": {},
     "output_type": "execute_result"
    },
    {
     "data": {
      "image/png": "[encoded data removed]",
      "text/plain": [
       "<Figure size 1250x1250 with 30 Axes>"
      ]
     },
     "metadata": {},
     "output_type": "display_data"
    }
   ],
   "source": [
    "sns.pairplot(df_groupby)"
   ]
  },
  {
   "cell_type": "markdown",
   "id": "95e93fc9-62c6-4b8e-9321-896d04b4d301",
   "metadata": {},
   "source": [
    "d. Plot a bar plot of 'continent' column with 'total_cases' ."
   ]
  },
  {
   "cell_type": "code",
   "execution_count": 253,
   "id": "fed5cdab-b19f-4257-a793-c466fdad1e28",
   "metadata": {},
   "outputs": [
    {
     "data": {
      "text/plain": [
       "<seaborn.axisgrid.FacetGrid at 0x20caec48680>"
      ]
     },
     "execution_count": 253,
     "metadata": {},
     "output_type": "execute_result"
    },
    {
     "data": {
      "image/png": "[encoded data removed]",
      "text/plain": [
       "<Figure size 511.111x500 with 1 Axes>"
      ]
     },
     "metadata": {},
     "output_type": "display_data"
    }
   ],
   "source": [
    "sns.catplot(data=df_groupby, x='continent', y='total_cases', kind='bar')"
   ]
  },
  {
   "cell_type": "code",
   "execution_count": null,
   "id": "5af0ba63-1917-417d-ad7e-caaff3a8adcd",
   "metadata": {},
   "outputs": [],
   "source": []
  }
 ],
 "metadata": {
  "kernelspec": {
   "display_name": "Python 3 (ipykernel)",
   "language": "python",
   "name": "python3"
  },
  "language_info": {
   "codemirror_mode": {
    "name": "ipython",
    "version": 3
   },
   "file_extension": ".py",
   "mimetype": "text/x-python",
   "name": "python",
   "nbconvert_exporter": "python",
   "pygments_lexer": "ipython3",
   "version": "3.12.4"
  }
 },
 "nbformat": 4,
 "nbformat_minor": 5
}
